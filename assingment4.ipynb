{
 "cells": [
  {
   "cell_type": "markdown",
   "id": "8116c33d-70ee-49d2-b5b4-2609a29b9ffc",
   "metadata": {},
   "source": [
    "# Assignment 4"
   ]
  },
  {
   "cell_type": "code",
   "execution_count": 1,
   "id": "975297bb-139c-4908-b0c3-77e07e0ead58",
   "metadata": {},
   "outputs": [],
   "source": [
    "import pandas as pd"
   ]
  },
  {
   "cell_type": "markdown",
   "id": "c20ea8f8-0853-4da8-9626-1030d16fd1fc",
   "metadata": {},
   "source": [
    "## Toy Example"
   ]
  },
  {
   "cell_type": "markdown",
   "id": "9af700e0-0e35-4611-8942-81336f92bf7b",
   "metadata": {},
   "source": [
    "Download `SPECTF.train` and `SPECTF.test` from https://archive.ics.uci.edu/ml/machine-learning-databases/spect/"
   ]
  },
  {
   "cell_type": "code",
   "execution_count": 2,
   "id": "6ce03163-3be2-4a6b-bcc7-46c441ce1dbf",
   "metadata": {},
   "outputs": [
    {
     "name": "stdout",
     "output_type": "stream",
     "text": [
      "(80, 44) (187, 44)\n",
      "0.5 0.9197860962566845\n"
     ]
    }
   ],
   "source": [
    "df_train = pd.read_csv('data/SPECTF.train', header=None)\n",
    "df_test = pd.read_csv('data/SPECTF.test', header=None)\n",
    "\n",
    "x_train = df_train.drop(0, axis=1)\n",
    "y_train = df_train[0]\n",
    "x_test = df_test.drop(0, axis=1)\n",
    "y_test = df_test[0]\n",
    "\n",
    "print(x_train.shape, x_test.shape)\n",
    "print(y_train.mean(), y_test.mean())"
   ]
  },
  {
   "cell_type": "code",
   "execution_count": 3,
   "id": "428fff6e-5b7c-45b2-8271-771f137a6494",
   "metadata": {},
   "outputs": [
    {
     "data": {
      "text/plain": [
       "{'n_estimators': 14, 'max_depth': 6}"
      ]
     },
     "execution_count": 3,
     "metadata": {},
     "output_type": "execute_result"
    }
   ],
   "source": [
    "from sklearn.ensemble import RandomForestClassifier\n",
    "from sklearn.model_selection import RandomizedSearchCV\n",
    "from scipy.stats import uniform\n",
    "\n",
    "rf = RandomForestClassifier(n_estimators=5, max_depth=2)\n",
    "\n",
    "distributions = dict(n_estimators=range(1, 30), max_depth=range(1, 30))\n",
    "clf = RandomizedSearchCV(rf, distributions, random_state=0, n_iter=100, n_jobs=-1, cv=15)\n",
    "search = clf.fit(x_train, y_train)\n",
    "search.best_params_"
   ]
  },
  {
   "cell_type": "code",
   "execution_count": 4,
   "id": "0d45a6e2-e8fb-4d1e-b8e0-8d7e0d366086",
   "metadata": {},
   "outputs": [
    {
     "name": "stdout",
     "output_type": "stream",
     "text": [
      "ROC AUC score:\n",
      "train - 1.0\n",
      "test - 0.7170542635658915\n"
     ]
    }
   ],
   "source": [
    "from sklearn.metrics import roc_auc_score\n",
    "\n",
    "print(f'ROC AUC score:') \n",
    "print(f'train - {roc_auc_score(y_train, search.best_estimator_.predict(x_train))}')\n",
    "print(f'test - {roc_auc_score(y_test, search.best_estimator_.predict(x_test))}')"
   ]
  },
  {
   "cell_type": "markdown",
   "id": "920f7ff4-842e-4736-bc1b-27c5aecbaf5e",
   "metadata": {},
   "source": [
    "## Gene Selection for Cancer Classification using Support Vector Machines"
   ]
  },
  {
   "cell_type": "code",
   "execution_count": 5,
   "id": "ce27bfa2-bbf6-4df2-bcf1-115c1eaa4930",
   "metadata": {},
   "outputs": [],
   "source": [
    "from sklearn.svm import SVC, LinearSVC\n",
    "import numpy as np\n",
    "from tqdm import tqdm\n",
    "import matplotlib.pyplot as plt"
   ]
  },
  {
   "cell_type": "code",
   "execution_count": 6,
   "id": "80cedab9-2fc1-41dc-a30a-6eb08bacacfb",
   "metadata": {},
   "outputs": [],
   "source": [
    "class SVMFS:\n",
    "    def __init__(self, svm_max_iter=10_000_000, verbose=0):\n",
    "        self.svm = SVC(kernel='linear', max_iter=svm_max_iter)\n",
    "        self.r = None\n",
    "        self.verbose = verbose\n",
    "    \n",
    "    def fit(self, x: pd.DataFrame, y):\n",
    "        X_0 = x\n",
    "        s = list(X_0.columns)\n",
    "        r = []        \n",
    "\n",
    "        while len(s) > 0:\n",
    "            if self.verbose > 0:\n",
    "                print(f'\\r  ', end='')\n",
    "                print(f'\\r{len(s)}', end='')\n",
    "                \n",
    "            self.svm.fit(X_0[s], y)\n",
    "            \n",
    "            alphas = np.zeros(len(x))\n",
    "            alphas[self.svm.support_] = self.svm.dual_coef_\n",
    "            w = alphas @ X_0[s].values\n",
    "            c = w ** 2\n",
    "\n",
    "            f = np.argmin(c)\n",
    "            r.append(s[f])\n",
    "            s.remove(s[f])\n",
    "        \n",
    "        self.r = r[::-1]"
   ]
  },
  {
   "cell_type": "code",
   "execution_count": 7,
   "id": "dbe4916c-ea80-4299-99aa-c8658a2d9dbc",
   "metadata": {},
   "outputs": [],
   "source": [
    "svm_fs = SVMFS()\n",
    "svm_fs.fit(x_train, y_train)"
   ]
  },
  {
   "cell_type": "code",
   "execution_count": 8,
   "id": "1ee6bb96-da37-46fc-a99d-f529ad5bdad6",
   "metadata": {},
   "outputs": [
    {
     "name": "stderr",
     "output_type": "stream",
     "text": [
      "100%|███████████████████████████████████████████| 44/44 [01:16<00:00,  1.74s/it]\n"
     ]
    }
   ],
   "source": [
    "importance = svm_fs.r\n",
    "score = []\n",
    "n = len(importance)\n",
    "for i in tqdm(range(n)):\n",
    "    i = len(svm_fs.r) - i\n",
    "    rf = RandomForestClassifier()\n",
    "    distributions = dict(n_estimators=range(1, 30), max_depth=range(1, 30))\n",
    "    clf = RandomizedSearchCV(rf, distributions, random_state=0, n_iter=100, n_jobs=-1, cv=5, scoring='roc_auc')\n",
    "    search = clf.fit(x_train[importance[:i]], y_train)\n",
    "    search.best_params_\n",
    "    \n",
    "    train_score = clf.best_score_\n",
    "    test_score = roc_auc_score(y_test, search.best_estimator_.predict(x_test[importance[:i]]))\n",
    "    score.append((train_score, test_score))"
   ]
  },
  {
   "cell_type": "code",
   "execution_count": 9,
   "id": "5f7e35d5-f499-4634-8d52-f29b36292f2e",
   "metadata": {},
   "outputs": [
    {
     "data": {
      "image/png": "[encoded data removed]",
      "text/plain": [
       "<Figure size 432x288 with 1 Axes>"
      ]
     },
     "metadata": {
      "needs_background": "light"
     },
     "output_type": "display_data"
    }
   ],
   "source": [
    "plt.title('ROC AUC with Feature Selection')\n",
    "plt.plot(np.array(score).T[0])\n",
    "plt.plot(np.array(score).T[1])\n",
    "plt.xlabel('# of removed features')\n",
    "plt.ylabel('ROC AUC score')\n",
    "plt.grid()\n",
    "plt.show()"
   ]
  },
  {
   "cell_type": "code",
   "execution_count": 10,
   "id": "92e58a5a-dbf1-4ea7-a5dd-1827e1aeb347",
   "metadata": {},
   "outputs": [
    {
     "name": "stdout",
     "output_type": "stream",
     "text": [
      "validation best: 0.9266, test: 0.6721, 17 features were removed.\n"
     ]
    }
   ],
   "source": [
    "best = sorted(score, key=lambda x: x[0], reverse=True)\n",
    "print('validation best: {:.4f}, test: {:.4f}, {} features were removed.'.format(*best[0], score.index(best[0])))"
   ]
  },
  {
   "cell_type": "markdown",
   "id": "7331c70c-6867-4645-9b40-03ebab54e74f",
   "metadata": {},
   "source": [
    "## TMGWA"
   ]
  },
  {
   "cell_type": "code",
   "execution_count": 11,
   "id": "cc1612ad-872f-4bf1-adf2-b628a3bbf3de",
   "metadata": {},
   "outputs": [],
   "source": [
    "def fitness(error_rate, feature_percent, alpha=0.999):\n",
    "    beta = 1 - alpha\n",
    "    return alpha * error_rate + beta * feature_percent"
   ]
  },
  {
   "cell_type": "code",
   "execution_count": 12,
   "id": "f868d4c1-06d3-46b1-8a1f-f94f972cefd8",
   "metadata": {},
   "outputs": [],
   "source": [
    "n_agents = 10\n",
    "\n",
    "wolfs = (np.random.rand(n_agents, len(x_train.columns)) > .5).astype(float)"
   ]
  },
  {
   "cell_type": "code",
   "execution_count": 13,
   "id": "f2b3a7f3-661a-462f-9925-5c707f879f9b",
   "metadata": {},
   "outputs": [],
   "source": [
    "from sklearn.neighbors import KNeighborsClassifier\n",
    "from sklearn.model_selection import KFold\n",
    "\n",
    "def calculate_error_rate(x_train, y_train, kf_n_splits=10, knn_n_neighbors=5):\n",
    "    kf = KFold(n_splits=kf_n_splits, shuffle=True, random_state=42)\n",
    "    knn = KNeighborsClassifier(n_neighbors=knn_n_neighbors)\n",
    "\n",
    "    predictions = []\n",
    "    gt = []\n",
    "\n",
    "    for train_index, val_index in kf.split(x_train):\n",
    "        x_train_i = x_train.iloc[train_index]\n",
    "        y_train_i = y_train.iloc[train_index]\n",
    "        x_val_i = x_train.iloc[val_index]\n",
    "        y_val_i = y_train.iloc[val_index]\n",
    "\n",
    "        knn.fit(x_train_i, y_train_i)\n",
    "        predictions.extend(knn.predict(x_val_i).tolist())\n",
    "        gt.extend(y_val_i.tolist())\n",
    "\n",
    "    error_rate = (np.array(predictions) != np.array(gt)).mean()\n",
    "    return error_rate"
   ]
  },
  {
   "cell_type": "code",
   "execution_count": 14,
   "id": "3f7e79b8-2942-49d4-b432-0000f070ed07",
   "metadata": {},
   "outputs": [],
   "source": [
    "def one_wolf_fitness(x_train, y_train, wolf):\n",
    "    error_rate = calculate_error_rate(x_train.iloc[:, wolf], y_train)\n",
    "    return fitness(error_rate, wolf.mean())"
   ]
  },
  {
   "cell_type": "code",
   "execution_count": 15,
   "id": "622d8088-56da-4b4b-a2b0-c7bf1eb4e825",
   "metadata": {},
   "outputs": [],
   "source": [
    "t = 0\n",
    "iterations = 100\n",
    "n = len(x_train.columns)\n",
    "\n",
    "a = 2 - t * 2 / iterations\n",
    "A = 2 * a * np.random.rand(n) - a\n",
    "C = 2 * np.random.rand(n)"
   ]
  },
  {
   "cell_type": "code",
   "execution_count": 16,
   "id": "fb54fda3-7cae-4f1b-80d4-752913542aa7",
   "metadata": {},
   "outputs": [],
   "source": [
    "fitnesses = [one_wolf_fitness(x_train, y_train, wolf) for wolf in wolfs]\n",
    "sorted_index = np.argsort(fitnesses)\n",
    "x_alpha, x_beta, x_delta = [wolfs[i] for i in sorted_index[:3]]"
   ]
  },
  {
   "cell_type": "code",
   "execution_count": 17,
   "id": "c10b642c-1fb9-4fa7-8252-056bd0b60c7d",
   "metadata": {},
   "outputs": [
    {
     "name": "stderr",
     "output_type": "stream",
     "text": [
      "100%|█████████████████████████████████████████| 100/100 [00:26<00:00,  3.82it/s]\n"
     ]
    },
    {
     "data": {
      "text/plain": [
       "[<matplotlib.lines.Line2D at 0x7fcf7922f970>]"
      ]
     },
     "execution_count": 17,
     "metadata": {},
     "output_type": "execute_result"
    },
    {
     "data": {
      "image/png": "[encoded data removed]",
      "text/plain": [
       "<Figure size 432x288 with 1 Axes>"
      ]
     },
     "metadata": {
      "needs_background": "light"
     },
     "output_type": "display_data"
    }
   ],
   "source": [
    "fitness_list = []\n",
    "best_results = [-1, 1]\n",
    "\n",
    "for t in tqdm(range(iterations)):\n",
    "    x_abd = np.stack([x_alpha, x_beta, x_delta]).copy()\n",
    "\n",
    "    a = 2 - t * 2 / iterations\n",
    "    A = 2 * a * np.random.rand(3, n)\n",
    "    C = 2 * np.random.rand(3, n)\n",
    "\n",
    "    for wolf_ind in sorted_index:\n",
    "        wolf = wolfs[wolf_ind]        \n",
    "        D = C * x_abd  - wolf\n",
    "        \n",
    "        X_123 = x_abd - A * D\n",
    "        wolfs[wolf_ind] = X_123.mean(axis=0)\n",
    "        \n",
    "    x_si = 1 / (1 + np.exp(-wolfs))\n",
    "    x_binary = np.random.rand(*wolfs.shape) >= x_si\n",
    "    wolfs[:] = x_binary\n",
    "    \n",
    "    fitnesses = [one_wolf_fitness(x_train, y_train, wolf) for wolf in wolfs]\n",
    "    sorted_index = np.argsort(fitnesses)\n",
    "    x_alpha, x_beta, x_delta = [wolfs[i] for i in sorted_index[:3]]\n",
    "    \n",
    "    if min(fitnesses) < best_results[1]:\n",
    "        best_results[1] = min(fitnesses)\n",
    "        best_results[0] = x_alpha.copy()\n",
    "    \n",
    "    fitness_list.append(min(fitnesses))\n",
    "plt.plot(fitness_list)"
   ]
  },
  {
   "cell_type": "code",
   "execution_count": 18,
   "id": "86a5a731-8529-4aab-ad57-3e9b347bc249",
   "metadata": {},
   "outputs": [
    {
     "data": {
      "text/plain": [
       "{'n_estimators': 3, 'max_depth': 2}"
      ]
     },
     "execution_count": 18,
     "metadata": {},
     "output_type": "execute_result"
    }
   ],
   "source": [
    "rf = RandomForestClassifier()\n",
    "distributions = dict(n_estimators=range(1, 30), max_depth=range(1, 30))\n",
    "clf = RandomizedSearchCV(rf, distributions, random_state=0, n_iter=100, n_jobs=-1, cv=15)\n",
    "search = clf.fit(x_train.iloc[:, best_results[0]], y_train)\n",
    "search.best_params_"
   ]
  },
  {
   "cell_type": "code",
   "execution_count": 19,
   "id": "7911757e-1f31-4194-87b7-dd28571ccf1b",
   "metadata": {},
   "outputs": [
    {
     "name": "stdout",
     "output_type": "stream",
     "text": [
      "ROC AUC score:\n",
      "train - 0.6499999999999999\n",
      "test - 0.488953488372093\n"
     ]
    }
   ],
   "source": [
    "from sklearn.metrics import roc_auc_score\n",
    "\n",
    "print(f'ROC AUC score:') \n",
    "print(f'train - {roc_auc_score(y_train, search.best_estimator_.predict(x_train.iloc[:, best_results[0]]))}')\n",
    "print(f'test - {roc_auc_score(y_test, search.best_estimator_.predict(x_test.iloc[:, best_results[0]]))}')"
   ]
  },
  {
   "cell_type": "markdown",
   "id": "0eab7643-b887-4be4-bb4a-14582895d4b6",
   "metadata": {},
   "source": [
    "## Baselines"
   ]
  },
  {
   "cell_type": "markdown",
   "id": "880e74ea-d8ae-416b-b55e-348de879ddc5",
   "metadata": {},
   "source": [
    "The baselines:\n",
    " - mRMR\n",
    " - f_classif with false discovery rate of 10% - with SelectFdr function\n",
    " - RFE with SVM evaluation model\n",
    " - ReliefF"
   ]
  },
  {
   "cell_type": "markdown",
   "id": "c33c75d6-d036-4407-a21d-380bf563df49",
   "metadata": {},
   "source": [
    "### MRMR"
   ]
  },
  {
   "cell_type": "code",
   "execution_count": 20,
   "id": "2162702f-864f-43ee-9897-8da1a53d614d",
   "metadata": {},
   "outputs": [
    {
     "name": "stderr",
     "output_type": "stream",
     "text": [
      "100%|███████████████████████████████████████████| 44/44 [01:34<00:00,  2.16s/it]\n"
     ]
    }
   ],
   "source": [
    "from mrmr import mrmr_classif\n",
    "\n",
    "score = []\n",
    "n = len(x_train.columns)\n",
    "for i in tqdm(range(n)):    \n",
    "    selected_features = mrmr_classif(x_train, y_train, K=n-i, show_progress=False)\n",
    "\n",
    "    rf = RandomForestClassifier()\n",
    "    distributions = dict(n_estimators=range(1, 30), max_depth=range(1, 30))\n",
    "    clf = RandomizedSearchCV(rf, distributions, random_state=0, n_iter=100, n_jobs=-1, cv=5, scoring='roc_auc')\n",
    "    search = clf.fit(x_train[selected_features], y_train)\n",
    "    search.best_params_\n",
    "    \n",
    "    train_score = clf.best_score_\n",
    "    test_score = roc_auc_score(y_test, search.best_estimator_.predict(x_test[selected_features]))\n",
    "    score.append((train_score, test_score))"
   ]
  },
  {
   "cell_type": "code",
   "execution_count": 21,
   "id": "2c594f34-21d8-4279-9b4a-8434be4c7826",
   "metadata": {},
   "outputs": [
    {
     "data": {
      "image/png": "[encoded data removed]",
      "text/plain": [
       "<Figure size 432x288 with 1 Axes>"
      ]
     },
     "metadata": {
      "needs_background": "light"
     },
     "output_type": "display_data"
    }
   ],
   "source": [
    "plt.title('ROC AUC with Feature Selection')\n",
    "plt.plot(np.array(score).T[0])\n",
    "plt.plot(np.array(score).T[1])\n",
    "plt.xlabel('# of removed features')\n",
    "plt.ylabel('ROC AUC score')\n",
    "plt.grid()\n",
    "plt.show()"
   ]
  },
  {
   "cell_type": "code",
   "execution_count": 22,
   "id": "8ab4e025-9b11-4a20-a4c6-8a80aef3ae2b",
   "metadata": {},
   "outputs": [
    {
     "name": "stdout",
     "output_type": "stream",
     "text": [
      "validation best: 0.9281, test: 0.6880, 36 features were removed.\n"
     ]
    }
   ],
   "source": [
    "best = sorted(score, key=lambda x: x[0], reverse=True)\n",
    "print('validation best: {:.4f}, test: {:.4f}, {} features were removed.'.format(*best[0], score.index(best[0])))"
   ]
  },
  {
   "cell_type": "markdown",
   "id": "7a53227f-6b5b-4b72-b161-c738439dcd05",
   "metadata": {},
   "source": [
    "### F-Classif"
   ]
  },
  {
   "cell_type": "code",
   "execution_count": 23,
   "id": "ab4126ac-e2a6-442e-8e7a-0be3bc319715",
   "metadata": {},
   "outputs": [],
   "source": [
    "from sklearn.feature_selection import SelectFdr\n",
    "from sklearn.metrics import roc_auc_score\n",
    "\n",
    "class RandomForestClassifierWithFDR(RandomForestClassifier):\n",
    "    def __init__(self, n_estimators=10, max_depth=5, alpha=0.1):\n",
    "        self.alpha = alpha\n",
    "        self.selected_feautures = None\n",
    "        self.fs = SelectFdr(alpha=alpha)\n",
    "        \n",
    "        super().__init__(n_estimators=n_estimators, max_depth=max_depth)\n",
    "    \n",
    "    def fit(self, X, y):\n",
    "        X = self.fs.fit_transform(X, y)\n",
    "        self.n_features_out_ = X.shape[1]\n",
    "        super().fit(X, y)\n",
    "    \n",
    "    def predict(self, X):\n",
    "        X = self.fs.transform(X)\n",
    "        return super().predict(X)\n",
    "    \n",
    "    def predict_proba(self, X):\n",
    "        X = self.fs.transform(X)\n",
    "        return super().predict_proba(X)\n",
    "    \n",
    "    def score(self, X, y):\n",
    "        return roc_auc_score(y, self.predict_proba(X)[:, 1])"
   ]
  },
  {
   "cell_type": "code",
   "execution_count": 24,
   "id": "c97d4c11-013c-4ca1-8910-476340a605c2",
   "metadata": {
    "tags": []
   },
   "outputs": [
    {
     "name": "stdout",
     "output_type": "stream",
     "text": [
      "validation best: 0.8797, test: 0.7845, 24 features remained.\n"
     ]
    }
   ],
   "source": [
    "rf = RandomForestClassifierWithFDR(alpha=0.1)\n",
    "distributions = dict(n_estimators=range(1, 30), max_depth=range(1, 30))\n",
    "clf = RandomizedSearchCV(rf, distributions, random_state=0, n_iter=100, n_jobs=-1, cv=5, scoring='roc_auc')\n",
    "\n",
    "search = clf.fit(x_train, y_train)\n",
    "search.best_params_\n",
    "\n",
    "train_score = clf.best_score_\n",
    "test_score = search.best_estimator_.score(x_test, y_test)\n",
    "print('validation best: {:.4f}, test: {:.4f}, {} features remained.'.format(train_score, test_score, clf.best_estimator_.n_features_out_))"
   ]
  },
  {
   "cell_type": "markdown",
   "id": "a704bdb4-43d2-4e52-9acd-5ce45daf6b6e",
   "metadata": {},
   "source": [
    "### ReliefF"
   ]
  },
  {
   "cell_type": "code",
   "execution_count": 25,
   "id": "15911a81-aec3-408b-aac8-44e6c4d169f1",
   "metadata": {},
   "outputs": [],
   "source": [
    "from ReliefF import ReliefF\n",
    "\n",
    "class RandomForestClassifierWithReliefF(RandomForestClassifier):\n",
    "    def __init__(self, n_estimators=10, max_depth=5, n_neighbors=20, n_features_to_keep=2):\n",
    "        self.n_neighbors = n_neighbors\n",
    "        self.n_features_to_keep = n_features_to_keep\n",
    "        \n",
    "        self.selected_feautures = None\n",
    "        self.fs = ReliefF(n_neighbors=n_neighbors, n_features_to_keep=n_features_to_keep)\n",
    "        \n",
    "        super().__init__(n_estimators=n_estimators, max_depth=max_depth)\n",
    "    \n",
    "    def fit(self, X, y):\n",
    "        if isinstance(X, pd.DataFrame):\n",
    "            X = X.values\n",
    "            y = y.values\n",
    "        X = self.fs.fit_transform(X, y)\n",
    "        self.n_features_out_ = X.shape[1]\n",
    "        super().fit(X, y)\n",
    "    \n",
    "    def predict(self, X):\n",
    "        if isinstance(X, pd.DataFrame):\n",
    "            X = X.values\n",
    "        X = self.fs.transform(X)\n",
    "        return super().predict(X)\n",
    "    \n",
    "    def predict_proba(self, X):\n",
    "        if isinstance(X, pd.DataFrame):\n",
    "            X = X.values\n",
    "        X = self.fs.transform(X)\n",
    "        return super().predict_proba(X)\n",
    "    \n",
    "    def score(self, X, y):\n",
    "        if isinstance(X, pd.DataFrame):\n",
    "            X = X.values\n",
    "            y = y.values\n",
    "        return roc_auc_score(y, self.predict_proba(X)[:, 1])"
   ]
  },
  {
   "cell_type": "code",
   "execution_count": 26,
   "id": "6c2373f9-2a3c-4465-b8eb-9ad50496915d",
   "metadata": {
    "tags": []
   },
   "outputs": [
    {
     "name": "stdout",
     "output_type": "stream",
     "text": [
      "validation best: 0.7734, test: 0.7843, 28 features remained.\n"
     ]
    }
   ],
   "source": [
    "rf = RandomForestClassifierWithReliefF()\n",
    "distributions = dict(n_estimators=range(1, 30), max_depth=range(1, 30), n_neighbors=range(5, 40), n_features_to_keep=range(1, x_train.shape[1]))\n",
    "clf = RandomizedSearchCV(rf, distributions, random_state=0, n_iter=100, n_jobs=-1, cv=5, scoring='roc_auc')\n",
    "\n",
    "search = clf.fit(x_train, y_train)\n",
    "search.best_params_\n",
    "\n",
    "train_score = clf.best_score_\n",
    "test_score = search.best_estimator_.score(x_test, y_test)\n",
    "print('validation best: {:.4f}, test: {:.4f}, {} features remained.'.format(train_score, test_score, clf.best_estimator_.n_features_out_))"
   ]
  },
  {
   "cell_type": "code",
   "execution_count": null,
   "id": "a4d287dc-2e39-4370-a8bd-f658d8097883",
   "metadata": {},
   "outputs": [],
   "source": []
  }
 ],
 "metadata": {
  "kernelspec": {
   "display_name": "Python 3 (ipykernel)",
   "language": "python",
   "name": "python3"
  },
  "language_info": {
   "codemirror_mode": {
    "name": "ipython",
    "version": 3
   },
   "file_extension": ".py",
   "mimetype": "text/x-python",
   "name": "python",
   "nbconvert_exporter": "python",
   "pygments_lexer": "ipython3",
   "version": "3.9.7"
  }
 },
 "nbformat": 4,
 "nbformat_minor": 5
}
