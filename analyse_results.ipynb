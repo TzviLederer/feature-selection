{
 "cells": [
  {
   "cell_type": "code",
   "execution_count": 1,
   "metadata": {
    "collapsed": true
   },
   "outputs": [],
   "source": [
    "import pandas as pd"
   ]
  },
  {
   "cell_type": "code",
   "execution_count": 39,
   "outputs": [
    {
     "ename": "ParserError",
     "evalue": "Error tokenizing data. C error: EOF inside string starting at row 65514",
     "output_type": "error",
     "traceback": [
      "\u001B[1;31m---------------------------------------------------------------------------\u001B[0m",
      "\u001B[1;31mParserError\u001B[0m                               Traceback (most recent call last)",
      "Input \u001B[1;32mIn [39]\u001B[0m, in \u001B[0;36m<cell line: 1>\u001B[1;34m()\u001B[0m\n\u001B[1;32m----> 1\u001B[0m df \u001B[38;5;241m=\u001B[39m \u001B[43mpd\u001B[49m\u001B[38;5;241;43m.\u001B[39;49m\u001B[43mread_csv\u001B[49m\u001B[43m(\u001B[49m\u001B[38;5;124;43m'\u001B[39;49m\u001B[38;5;124;43munified_df.csv\u001B[39;49m\u001B[38;5;124;43m'\u001B[39;49m\u001B[43m)\u001B[49m\n\u001B[0;32m      2\u001B[0m df \u001B[38;5;241m=\u001B[39m df\u001B[38;5;241m.\u001B[39mdrop(columns\u001B[38;5;241m=\u001B[39m[c \u001B[38;5;28;01mfor\u001B[39;00m c \u001B[38;5;129;01min\u001B[39;00m df\u001B[38;5;241m.\u001B[39mcolumns \u001B[38;5;28;01mif\u001B[39;00m \u001B[38;5;124m'\u001B[39m\u001B[38;5;124mUnnamed\u001B[39m\u001B[38;5;124m'\u001B[39m \u001B[38;5;129;01min\u001B[39;00m c])\n\u001B[0;32m      3\u001B[0m df\n",
      "File \u001B[1;32m~\\Desktop\\ML_FINAL\\feature-selection\\venv\\lib\\site-packages\\pandas\\util\\_decorators.py:311\u001B[0m, in \u001B[0;36mdeprecate_nonkeyword_arguments.<locals>.decorate.<locals>.wrapper\u001B[1;34m(*args, **kwargs)\u001B[0m\n\u001B[0;32m    305\u001B[0m \u001B[38;5;28;01mif\u001B[39;00m \u001B[38;5;28mlen\u001B[39m(args) \u001B[38;5;241m>\u001B[39m num_allow_args:\n\u001B[0;32m    306\u001B[0m     warnings\u001B[38;5;241m.\u001B[39mwarn(\n\u001B[0;32m    307\u001B[0m         msg\u001B[38;5;241m.\u001B[39mformat(arguments\u001B[38;5;241m=\u001B[39marguments),\n\u001B[0;32m    308\u001B[0m         \u001B[38;5;167;01mFutureWarning\u001B[39;00m,\n\u001B[0;32m    309\u001B[0m         stacklevel\u001B[38;5;241m=\u001B[39mstacklevel,\n\u001B[0;32m    310\u001B[0m     )\n\u001B[1;32m--> 311\u001B[0m \u001B[38;5;28;01mreturn\u001B[39;00m func(\u001B[38;5;241m*\u001B[39margs, \u001B[38;5;241m*\u001B[39m\u001B[38;5;241m*\u001B[39mkwargs)\n",
      "File \u001B[1;32m~\\Desktop\\ML_FINAL\\feature-selection\\venv\\lib\\site-packages\\pandas\\io\\parsers\\readers.py:680\u001B[0m, in \u001B[0;36mread_csv\u001B[1;34m(filepath_or_buffer, sep, delimiter, header, names, index_col, usecols, squeeze, prefix, mangle_dupe_cols, dtype, engine, converters, true_values, false_values, skipinitialspace, skiprows, skipfooter, nrows, na_values, keep_default_na, na_filter, verbose, skip_blank_lines, parse_dates, infer_datetime_format, keep_date_col, date_parser, dayfirst, cache_dates, iterator, chunksize, compression, thousands, decimal, lineterminator, quotechar, quoting, doublequote, escapechar, comment, encoding, encoding_errors, dialect, error_bad_lines, warn_bad_lines, on_bad_lines, delim_whitespace, low_memory, memory_map, float_precision, storage_options)\u001B[0m\n\u001B[0;32m    665\u001B[0m kwds_defaults \u001B[38;5;241m=\u001B[39m _refine_defaults_read(\n\u001B[0;32m    666\u001B[0m     dialect,\n\u001B[0;32m    667\u001B[0m     delimiter,\n\u001B[1;32m   (...)\u001B[0m\n\u001B[0;32m    676\u001B[0m     defaults\u001B[38;5;241m=\u001B[39m{\u001B[38;5;124m\"\u001B[39m\u001B[38;5;124mdelimiter\u001B[39m\u001B[38;5;124m\"\u001B[39m: \u001B[38;5;124m\"\u001B[39m\u001B[38;5;124m,\u001B[39m\u001B[38;5;124m\"\u001B[39m},\n\u001B[0;32m    677\u001B[0m )\n\u001B[0;32m    678\u001B[0m kwds\u001B[38;5;241m.\u001B[39mupdate(kwds_defaults)\n\u001B[1;32m--> 680\u001B[0m \u001B[38;5;28;01mreturn\u001B[39;00m \u001B[43m_read\u001B[49m\u001B[43m(\u001B[49m\u001B[43mfilepath_or_buffer\u001B[49m\u001B[43m,\u001B[49m\u001B[43m \u001B[49m\u001B[43mkwds\u001B[49m\u001B[43m)\u001B[49m\n",
      "File \u001B[1;32m~\\Desktop\\ML_FINAL\\feature-selection\\venv\\lib\\site-packages\\pandas\\io\\parsers\\readers.py:581\u001B[0m, in \u001B[0;36m_read\u001B[1;34m(filepath_or_buffer, kwds)\u001B[0m\n\u001B[0;32m    578\u001B[0m     \u001B[38;5;28;01mreturn\u001B[39;00m parser\n\u001B[0;32m    580\u001B[0m \u001B[38;5;28;01mwith\u001B[39;00m parser:\n\u001B[1;32m--> 581\u001B[0m     \u001B[38;5;28;01mreturn\u001B[39;00m \u001B[43mparser\u001B[49m\u001B[38;5;241;43m.\u001B[39;49m\u001B[43mread\u001B[49m\u001B[43m(\u001B[49m\u001B[43mnrows\u001B[49m\u001B[43m)\u001B[49m\n",
      "File \u001B[1;32m~\\Desktop\\ML_FINAL\\feature-selection\\venv\\lib\\site-packages\\pandas\\io\\parsers\\readers.py:1255\u001B[0m, in \u001B[0;36mTextFileReader.read\u001B[1;34m(self, nrows)\u001B[0m\n\u001B[0;32m   1253\u001B[0m nrows \u001B[38;5;241m=\u001B[39m validate_integer(\u001B[38;5;124m\"\u001B[39m\u001B[38;5;124mnrows\u001B[39m\u001B[38;5;124m\"\u001B[39m, nrows)\n\u001B[0;32m   1254\u001B[0m \u001B[38;5;28;01mtry\u001B[39;00m:\n\u001B[1;32m-> 1255\u001B[0m     index, columns, col_dict \u001B[38;5;241m=\u001B[39m \u001B[38;5;28;43mself\u001B[39;49m\u001B[38;5;241;43m.\u001B[39;49m\u001B[43m_engine\u001B[49m\u001B[38;5;241;43m.\u001B[39;49m\u001B[43mread\u001B[49m\u001B[43m(\u001B[49m\u001B[43mnrows\u001B[49m\u001B[43m)\u001B[49m\n\u001B[0;32m   1256\u001B[0m \u001B[38;5;28;01mexcept\u001B[39;00m \u001B[38;5;167;01mException\u001B[39;00m:\n\u001B[0;32m   1257\u001B[0m     \u001B[38;5;28mself\u001B[39m\u001B[38;5;241m.\u001B[39mclose()\n",
      "File \u001B[1;32m~\\Desktop\\ML_FINAL\\feature-selection\\venv\\lib\\site-packages\\pandas\\io\\parsers\\c_parser_wrapper.py:225\u001B[0m, in \u001B[0;36mCParserWrapper.read\u001B[1;34m(self, nrows)\u001B[0m\n\u001B[0;32m    223\u001B[0m \u001B[38;5;28;01mtry\u001B[39;00m:\n\u001B[0;32m    224\u001B[0m     \u001B[38;5;28;01mif\u001B[39;00m \u001B[38;5;28mself\u001B[39m\u001B[38;5;241m.\u001B[39mlow_memory:\n\u001B[1;32m--> 225\u001B[0m         chunks \u001B[38;5;241m=\u001B[39m \u001B[38;5;28;43mself\u001B[39;49m\u001B[38;5;241;43m.\u001B[39;49m\u001B[43m_reader\u001B[49m\u001B[38;5;241;43m.\u001B[39;49m\u001B[43mread_low_memory\u001B[49m\u001B[43m(\u001B[49m\u001B[43mnrows\u001B[49m\u001B[43m)\u001B[49m\n\u001B[0;32m    226\u001B[0m         \u001B[38;5;66;03m# destructive to chunks\u001B[39;00m\n\u001B[0;32m    227\u001B[0m         data \u001B[38;5;241m=\u001B[39m _concatenate_chunks(chunks)\n",
      "File \u001B[1;32m~\\Desktop\\ML_FINAL\\feature-selection\\venv\\lib\\site-packages\\pandas\\_libs\\parsers.pyx:805\u001B[0m, in \u001B[0;36mpandas._libs.parsers.TextReader.read_low_memory\u001B[1;34m()\u001B[0m\n",
      "File \u001B[1;32m~\\Desktop\\ML_FINAL\\feature-selection\\venv\\lib\\site-packages\\pandas\\_libs\\parsers.pyx:861\u001B[0m, in \u001B[0;36mpandas._libs.parsers.TextReader._read_rows\u001B[1;34m()\u001B[0m\n",
      "File \u001B[1;32m~\\Desktop\\ML_FINAL\\feature-selection\\venv\\lib\\site-packages\\pandas\\_libs\\parsers.pyx:847\u001B[0m, in \u001B[0;36mpandas._libs.parsers.TextReader._tokenize_rows\u001B[1;34m()\u001B[0m\n",
      "File \u001B[1;32m~\\Desktop\\ML_FINAL\\feature-selection\\venv\\lib\\site-packages\\pandas\\_libs\\parsers.pyx:1960\u001B[0m, in \u001B[0;36mpandas._libs.parsers.raise_parser_error\u001B[1;34m()\u001B[0m\n",
      "\u001B[1;31mParserError\u001B[0m: Error tokenizing data. C error: EOF inside string starting at row 65514"
     ]
    }
   ],
   "source": [
    "df = pd.read_csv('unified_df.csv')\n",
    "df = df.drop(columns=[c for c in df.columns if 'Unnamed' in c])\n",
    "df"
   ],
   "metadata": {
    "collapsed": false,
    "pycharm": {
     "name": "#%%\n"
    }
   }
  },
  {
   "cell_type": "markdown",
   "source": [
    "# Accuracy"
   ],
   "metadata": {
    "collapsed": false,
    "pycharm": {
     "name": "#%% md\n"
    }
   }
  },
  {
   "cell_type": "code",
   "execution_count": 30,
   "outputs": [
    {
     "data": {
      "text/plain": "                   dataset filtering_algorithm  n_selected_features  test_acc\n0                  ALL.csv        grey_wolf_fs                  4.0  0.799744\n1               ALLAML.csv          rfe_svm_fs                 25.0  1.000000\n2             BASEHOCK.csv             mrmr_fs                100.0  0.951636\n3               Breast.csv          svm_fs_New                100.0  0.975258\n4          CLL-SUB-111.csv     poly_svm_fs_New                100.0  0.822121\n5                  CLL.csv          rfe_svm_fs                100.0  1.000000\n6                  CNS.csv          svm_fs_New                 20.0  0.943333\n7               COIL20.csv              svm_fs                100.0  0.967639\n8                  FSH.csv              svm_fs                100.0  0.800000\n9                 Lung.csv          rfe_svm_fs                 50.0  0.918947\n10            ayeastCC.csv         poly_svm_fs                  1.0  1.000000\n11          bcellViper.csv    grey_wolf_fs_New                100.0  0.854176\n12        bladderbatch.csv          rfe_svm_fs                100.0  0.996491\n13     breastCancerVDX.csv          reliefF_fs                 20.0  0.910252\n14  curatedOvarianData.csv    grey_wolf_fs_New                  5.0  0.927368",
      "text/html": "<div>\n<style scoped>\n    .dataframe tbody tr th:only-of-type {\n        vertical-align: middle;\n    }\n\n    .dataframe tbody tr th {\n        vertical-align: top;\n    }\n\n    .dataframe thead th {\n        text-align: right;\n    }\n</style>\n<table border=\"1\" class=\"dataframe\">\n  <thead>\n    <tr style=\"text-align: right;\">\n      <th></th>\n      <th>dataset</th>\n      <th>filtering_algorithm</th>\n      <th>n_selected_features</th>\n      <th>test_acc</th>\n    </tr>\n  </thead>\n  <tbody>\n    <tr>\n      <th>0</th>\n      <td>ALL.csv</td>\n      <td>grey_wolf_fs</td>\n      <td>4.0</td>\n      <td>0.799744</td>\n    </tr>\n    <tr>\n      <th>1</th>\n      <td>ALLAML.csv</td>\n      <td>rfe_svm_fs</td>\n      <td>25.0</td>\n      <td>1.000000</td>\n    </tr>\n    <tr>\n      <th>2</th>\n      <td>BASEHOCK.csv</td>\n      <td>mrmr_fs</td>\n      <td>100.0</td>\n      <td>0.951636</td>\n    </tr>\n    <tr>\n      <th>3</th>\n      <td>Breast.csv</td>\n      <td>svm_fs_New</td>\n      <td>100.0</td>\n      <td>0.975258</td>\n    </tr>\n    <tr>\n      <th>4</th>\n      <td>CLL-SUB-111.csv</td>\n      <td>poly_svm_fs_New</td>\n      <td>100.0</td>\n      <td>0.822121</td>\n    </tr>\n    <tr>\n      <th>5</th>\n      <td>CLL.csv</td>\n      <td>rfe_svm_fs</td>\n      <td>100.0</td>\n      <td>1.000000</td>\n    </tr>\n    <tr>\n      <th>6</th>\n      <td>CNS.csv</td>\n      <td>svm_fs_New</td>\n      <td>20.0</td>\n      <td>0.943333</td>\n    </tr>\n    <tr>\n      <th>7</th>\n      <td>COIL20.csv</td>\n      <td>svm_fs</td>\n      <td>100.0</td>\n      <td>0.967639</td>\n    </tr>\n    <tr>\n      <th>8</th>\n      <td>FSH.csv</td>\n      <td>svm_fs</td>\n      <td>100.0</td>\n      <td>0.800000</td>\n    </tr>\n    <tr>\n      <th>9</th>\n      <td>Lung.csv</td>\n      <td>rfe_svm_fs</td>\n      <td>50.0</td>\n      <td>0.918947</td>\n    </tr>\n    <tr>\n      <th>10</th>\n      <td>ayeastCC.csv</td>\n      <td>poly_svm_fs</td>\n      <td>1.0</td>\n      <td>1.000000</td>\n    </tr>\n    <tr>\n      <th>11</th>\n      <td>bcellViper.csv</td>\n      <td>grey_wolf_fs_New</td>\n      <td>100.0</td>\n      <td>0.854176</td>\n    </tr>\n    <tr>\n      <th>12</th>\n      <td>bladderbatch.csv</td>\n      <td>rfe_svm_fs</td>\n      <td>100.0</td>\n      <td>0.996491</td>\n    </tr>\n    <tr>\n      <th>13</th>\n      <td>breastCancerVDX.csv</td>\n      <td>reliefF_fs</td>\n      <td>20.0</td>\n      <td>0.910252</td>\n    </tr>\n    <tr>\n      <th>14</th>\n      <td>curatedOvarianData.csv</td>\n      <td>grey_wolf_fs_New</td>\n      <td>5.0</td>\n      <td>0.927368</td>\n    </tr>\n  </tbody>\n</table>\n</div>"
     },
     "execution_count": 30,
     "metadata": {},
     "output_type": "execute_result"
    }
   ],
   "source": [
    "mean_acc = df.groupby(['dataset', 'filtering_algorithm', 'n_selected_features']).mean()['test_acc'].reset_index()\n",
    "\n",
    "max_acc = mean_acc.groupby('dataset').max()['test_acc'].reset_index()\n",
    "\n",
    "max_acc = max_acc.apply(\n",
    "    lambda row: mean_acc[(mean_acc['dataset'] == row['dataset']) & (mean_acc['test_acc'] == row['test_acc'])].iloc[0],\n",
    "    axis=1)\n",
    "max_acc"
   ],
   "metadata": {
    "collapsed": false,
    "pycharm": {
     "name": "#%%\n"
    }
   }
  },
  {
   "cell_type": "markdown",
   "source": [
    "# Fit time"
   ],
   "metadata": {
    "collapsed": false,
    "pycharm": {
     "name": "#%% md\n"
    }
   }
  },
  {
   "cell_type": "code",
   "execution_count": 47,
   "outputs": [
    {
     "data": {
      "text/plain": "filtering_algorithm\ngrey_wolf_fs        6536.657198\ngrey_wolf_fs_New    9969.911747\nmrmr_fs             2325.742276\npoly_svm_fs         6545.411394\nrbf_svm_fs          3381.926456\nrbf_svm_fs_New         4.500997\nreliefF_fs             6.942051\nrfe_svm_fs          2834.276628\nselect_fdr_fs          0.183367\nsvm_fs              3670.037053\nsvm_fs_New             4.964416\nName: test_feature_selector_fit_time, dtype: float64"
     },
     "execution_count": 47,
     "metadata": {},
     "output_type": "execute_result"
    }
   ],
   "source": [
    "df[df['dataset'] == 'ALL.csv'].groupby(['filtering_algorithm'])['test_feature_selector_fit_time'].max()"
   ],
   "metadata": {
    "collapsed": false,
    "pycharm": {
     "name": "#%%\n"
    }
   }
  },
  {
   "cell_type": "code",
   "execution_count": 50,
   "outputs": [
    {
     "name": "stderr",
     "output_type": "stream",
     "text": [
      "C:\\Users\\adutl\\AppData\\Local\\Temp\\ipykernel_10932\\877760687.py:2: FutureWarning: Dropping invalid columns in DataFrameGroupBy.max is deprecated. In a future version, a TypeError will be raised. Before calling .max, select only columns which should be valid for the function.\n",
      "  mean_acc = df.groupby(['dataset', 'filtering_algorithm']).max()[metric_col].reset_index()\n"
     ]
    },
    {
     "data": {
      "text/plain": "                   dataset filtering_algorithm  test_feature_selector_fit_time\n0                  ALL.csv       select_fdr_fs                        0.183367\n1               ALLAML.csv       select_fdr_fs                        0.075487\n2             BASEHOCK.csv       select_fdr_fs                        1.473152\n3               Breast.csv       select_fdr_fs                        0.189027\n4          CLL-SUB-111.csv       select_fdr_fs                        0.091319\n5                  CLL.csv       select_fdr_fs                        0.025800\n6                  CNS.csv       select_fdr_fs                        0.046296\n7               COIL20.csv       select_fdr_fs                        0.105482\n8                  FSH.csv       select_fdr_fs                        0.012692\n9                 Lung.csv         select_fdr_                        0.197585\n10            ayeastCC.csv       select_fdr_fs                        0.053966\n11          bcellViper.csv       select_fdr_fs                        0.062698\n12        bladderbatch.csv       select_fdr_fs                        0.128158\n13     breastCancerVDX.csv       select_fdr_fs                        0.675001\n14  curatedOvarianData.csv       select_fdr_fs                        0.041928",
      "text/html": "<div>\n<style scoped>\n    .dataframe tbody tr th:only-of-type {\n        vertical-align: middle;\n    }\n\n    .dataframe tbody tr th {\n        vertical-align: top;\n    }\n\n    .dataframe thead th {\n        text-align: right;\n    }\n</style>\n<table border=\"1\" class=\"dataframe\">\n  <thead>\n    <tr style=\"text-align: right;\">\n      <th></th>\n      <th>dataset</th>\n      <th>filtering_algorithm</th>\n      <th>test_feature_selector_fit_time</th>\n    </tr>\n  </thead>\n  <tbody>\n    <tr>\n      <th>0</th>\n      <td>ALL.csv</td>\n      <td>select_fdr_fs</td>\n      <td>0.183367</td>\n    </tr>\n    <tr>\n      <th>1</th>\n      <td>ALLAML.csv</td>\n      <td>select_fdr_fs</td>\n      <td>0.075487</td>\n    </tr>\n    <tr>\n      <th>2</th>\n      <td>BASEHOCK.csv</td>\n      <td>select_fdr_fs</td>\n      <td>1.473152</td>\n    </tr>\n    <tr>\n      <th>3</th>\n      <td>Breast.csv</td>\n      <td>select_fdr_fs</td>\n      <td>0.189027</td>\n    </tr>\n    <tr>\n      <th>4</th>\n      <td>CLL-SUB-111.csv</td>\n      <td>select_fdr_fs</td>\n      <td>0.091319</td>\n    </tr>\n    <tr>\n      <th>5</th>\n      <td>CLL.csv</td>\n      <td>select_fdr_fs</td>\n      <td>0.025800</td>\n    </tr>\n    <tr>\n      <th>6</th>\n      <td>CNS.csv</td>\n      <td>select_fdr_fs</td>\n      <td>0.046296</td>\n    </tr>\n    <tr>\n      <th>7</th>\n      <td>COIL20.csv</td>\n      <td>select_fdr_fs</td>\n      <td>0.105482</td>\n    </tr>\n    <tr>\n      <th>8</th>\n      <td>FSH.csv</td>\n      <td>select_fdr_fs</td>\n      <td>0.012692</td>\n    </tr>\n    <tr>\n      <th>9</th>\n      <td>Lung.csv</td>\n      <td>select_fdr_</td>\n      <td>0.197585</td>\n    </tr>\n    <tr>\n      <th>10</th>\n      <td>ayeastCC.csv</td>\n      <td>select_fdr_fs</td>\n      <td>0.053966</td>\n    </tr>\n    <tr>\n      <th>11</th>\n      <td>bcellViper.csv</td>\n      <td>select_fdr_fs</td>\n      <td>0.062698</td>\n    </tr>\n    <tr>\n      <th>12</th>\n      <td>bladderbatch.csv</td>\n      <td>select_fdr_fs</td>\n      <td>0.128158</td>\n    </tr>\n    <tr>\n      <th>13</th>\n      <td>breastCancerVDX.csv</td>\n      <td>select_fdr_fs</td>\n      <td>0.675001</td>\n    </tr>\n    <tr>\n      <th>14</th>\n      <td>curatedOvarianData.csv</td>\n      <td>select_fdr_fs</td>\n      <td>0.041928</td>\n    </tr>\n  </tbody>\n</table>\n</div>"
     },
     "execution_count": 50,
     "metadata": {},
     "output_type": "execute_result"
    }
   ],
   "source": [
    "metric_col = 'test_feature_selector_fit_time'\n",
    "mean_acc = df.groupby(['dataset', 'filtering_algorithm']).max()[metric_col].reset_index()\n",
    "\n",
    "max_acc = mean_acc.groupby(['dataset']).min()[metric_col].reset_index()\n",
    "\n",
    "max_acc = max_acc.apply(lambda row: mean_acc[(mean_acc['dataset'] == row['dataset'])\n",
    "                                             & (mean_acc[metric_col] == row[metric_col])].iloc[0], axis=1)\n",
    "max_acc"
   ],
   "metadata": {
    "collapsed": false,
    "pycharm": {
     "name": "#%%\n"
    }
   }
  },
  {
   "cell_type": "code",
   "execution_count": null,
   "outputs": [],
   "source": [],
   "metadata": {
    "collapsed": false,
    "pycharm": {
     "name": "#%%\n"
    }
   }
  },
  {
   "cell_type": "code",
   "execution_count": null,
   "outputs": [],
   "source": [],
   "metadata": {
    "collapsed": false,
    "pycharm": {
     "name": "#%%\n"
    }
   }
  }
 ],
 "metadata": {
  "kernelspec": {
   "display_name": "Python 3",
   "language": "python",
   "name": "python3"
  },
  "language_info": {
   "codemirror_mode": {
    "name": "ipython",
    "version": 2
   },
   "file_extension": ".py",
   "mimetype": "text/x-python",
   "name": "python",
   "nbconvert_exporter": "python",
   "pygments_lexer": "ipython2",
   "version": "2.7.6"
  }
 },
 "nbformat": 4,
 "nbformat_minor": 0
}