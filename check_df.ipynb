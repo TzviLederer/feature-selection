{
 "cells": [
  {
   "cell_type": "code",
   "execution_count": 1,
   "metadata": {
    "collapsed": true
   },
   "outputs": [],
   "source": [
    "import pandas as pd"
   ]
  },
  {
   "cell_type": "code",
   "execution_count": 2,
   "outputs": [],
   "source": [
    "df = pd.read_csv('unified_df.csv')"
   ],
   "metadata": {
    "collapsed": false,
    "pycharm": {
     "name": "#%%\n"
    }
   }
  },
  {
   "cell_type": "code",
   "execution_count": 3,
   "outputs": [
    {
     "data": {
      "text/plain": "       Unnamed: 0 learning_algorithm         dataset filtering_algorithm  \\\n0               0                 nb  bcellViper.csv             rfe_svm   \n1               1                 nb  bcellViper.csv             rfe_svm   \n2               2                 nb  bcellViper.csv             rfe_svm   \n3               3                 nb  bcellViper.csv             rfe_svm   \n4               4                 nb  bcellViper.csv             rfe_svm   \n...           ...                ...             ...                 ...   \n18235       18235                 nb    ayeastCC.csv            svm_ours   \n18236       18236                 nb    ayeastCC.csv            svm_ours   \n18237       18237                 nb    ayeastCC.csv            svm_ours   \n18238       18238                 nb    ayeastCC.csv            svm_ours   \n18239       18239                 nb    ayeastCC.csv            svm_ours   \n\n       n_selected_features                                          cv_method  \\\n0                      3.0  StratifiedKFold(n_splits=10, random_state=42, ...   \n1                      3.0  StratifiedKFold(n_splits=10, random_state=42, ...   \n2                      3.0  StratifiedKFold(n_splits=10, random_state=42, ...   \n3                      3.0  StratifiedKFold(n_splits=10, random_state=42, ...   \n4                      3.0  StratifiedKFold(n_splits=10, random_state=42, ...   \n...                    ...                                                ...   \n18235                 20.0                                      LeaveOneOut()   \n18236                 25.0                                      LeaveOneOut()   \n18237                 30.0                                      LeaveOneOut()   \n18238                 50.0                                      LeaveOneOut()   \n18239                100.0                                      LeaveOneOut()   \n\n       n_samples  n_features_org  fold  \\\n0          138.0          6250.0   1.0   \n1          138.0          6250.0   2.0   \n2          138.0          6250.0   3.0   \n3          138.0          6250.0   4.0   \n4          138.0          6250.0   5.0   \n...          ...             ...   ...   \n18235       50.0          6229.0   NaN   \n18236       50.0          6229.0   NaN   \n18237       50.0          6229.0   NaN   \n18238       50.0          6229.0   NaN   \n18239       50.0          6229.0   NaN   \n\n                                 selected_features_names  \\\n0                                        RPLP1,SON,CDC42   \n1                                        AK2,IGLL1,CDC42   \n2                                         SV2B,AK2,RPLP1   \n3                                         RSU1,SON,CDC42   \n4                                       SV2B,RPLP1,CDC42   \n...                                                  ...   \n18235  ['YDL037C', 'YDL039C', 'YDL070W', 'YDR298C', '...   \n18236  ['YBL030C', 'YDL037C', 'YDL039C', 'YDL070W', '...   \n18237  ['YBL030C', 'YDL037C', 'YDL039C', 'YDL070W', '...   \n18238  ['YBL030C', 'YBL102W', 'YBR034C', 'YBR256C', '...   \n18239  ['YBL030C', 'YBL102W', 'YBR034C', 'YBR256C', '...   \n\n                                selected_features_scores    fit_time  \\\n0                                   1.0000,1.0000,1.0000  196.137200   \n1                                   1.0000,1.0000,1.0000  184.046600   \n2                                   1.0000,1.0000,1.0000  167.652000   \n3                                   1.0000,1.0000,1.0000  168.201200   \n4                                   1.0000,1.0000,1.0000  226.583600   \n...                                                  ...         ...   \n18235  [0.9990364541512767, 0.9998394090252127, 0.998...    0.524962   \n18236  [0.996306407579894, 0.9990364541512767, 0.9998...    0.586399   \n18237  [0.996306407579894, 0.9990364541512767, 0.9998...    0.642481   \n18238  [0.996306407579894, 0.9924522241850008, 0.9943...    0.937662   \n18239  [0.996306407579894, 0.9924522241850008, 0.9943...    1.632958   \n\n       score_time  test_roc_auc  test_acc  test_mcc  test_pr_auc  test_score  \n0        0.733600        0.7238    0.5000    0.3512       0.5314         NaN  \n1        0.668000        0.8806    0.5000    0.3408       0.5122         NaN  \n2        0.710200        0.7844    0.5000    0.3924       0.6105         NaN  \n3        0.665400        0.7028    0.5000    0.3146       0.4074         NaN  \n4        0.697400        0.7173    0.3571    0.0824       0.6202         NaN  \n...           ...           ...       ...       ...          ...         ...  \n18235    0.011345        1.0000    1.0000    1.0000       1.0000         1.0  \n18236    0.012145        1.0000    1.0000    1.0000       1.0000         1.0  \n18237    0.013184        1.0000    1.0000    1.0000       1.0000         1.0  \n18238    0.017567        1.0000    1.0000    1.0000       1.0000         1.0  \n18239    0.026709        1.0000    1.0000    1.0000       1.0000         1.0  \n\n[18240 rows x 18 columns]",
      "text/html": "<div>\n<style scoped>\n    .dataframe tbody tr th:only-of-type {\n        vertical-align: middle;\n    }\n\n    .dataframe tbody tr th {\n        vertical-align: top;\n    }\n\n    .dataframe thead th {\n        text-align: right;\n    }\n</style>\n<table border=\"1\" class=\"dataframe\">\n  <thead>\n    <tr style=\"text-align: right;\">\n      <th></th>\n      <th>Unnamed: 0</th>\n      <th>learning_algorithm</th>\n      <th>dataset</th>\n      <th>filtering_algorithm</th>\n      <th>n_selected_features</th>\n      <th>cv_method</th>\n      <th>n_samples</th>\n      <th>n_features_org</th>\n      <th>fold</th>\n      <th>selected_features_names</th>\n      <th>selected_features_scores</th>\n      <th>fit_time</th>\n      <th>score_time</th>\n      <th>test_roc_auc</th>\n      <th>test_acc</th>\n      <th>test_mcc</th>\n      <th>test_pr_auc</th>\n      <th>test_score</th>\n    </tr>\n  </thead>\n  <tbody>\n    <tr>\n      <th>0</th>\n      <td>0</td>\n      <td>nb</td>\n      <td>bcellViper.csv</td>\n      <td>rfe_svm</td>\n      <td>3.0</td>\n      <td>StratifiedKFold(n_splits=10, random_state=42, ...</td>\n      <td>138.0</td>\n      <td>6250.0</td>\n      <td>1.0</td>\n      <td>RPLP1,SON,CDC42</td>\n      <td>1.0000,1.0000,1.0000</td>\n      <td>196.137200</td>\n      <td>0.733600</td>\n      <td>0.7238</td>\n      <td>0.5000</td>\n      <td>0.3512</td>\n      <td>0.5314</td>\n      <td>NaN</td>\n    </tr>\n    <tr>\n      <th>1</th>\n      <td>1</td>\n      <td>nb</td>\n      <td>bcellViper.csv</td>\n      <td>rfe_svm</td>\n      <td>3.0</td>\n      <td>StratifiedKFold(n_splits=10, random_state=42, ...</td>\n      <td>138.0</td>\n      <td>6250.0</td>\n      <td>2.0</td>\n      <td>AK2,IGLL1,CDC42</td>\n      <td>1.0000,1.0000,1.0000</td>\n      <td>184.046600</td>\n      <td>0.668000</td>\n      <td>0.8806</td>\n      <td>0.5000</td>\n      <td>0.3408</td>\n      <td>0.5122</td>\n      <td>NaN</td>\n    </tr>\n    <tr>\n      <th>2</th>\n      <td>2</td>\n      <td>nb</td>\n      <td>bcellViper.csv</td>\n      <td>rfe_svm</td>\n      <td>3.0</td>\n      <td>StratifiedKFold(n_splits=10, random_state=42, ...</td>\n      <td>138.0</td>\n      <td>6250.0</td>\n      <td>3.0</td>\n      <td>SV2B,AK2,RPLP1</td>\n      <td>1.0000,1.0000,1.0000</td>\n      <td>167.652000</td>\n      <td>0.710200</td>\n      <td>0.7844</td>\n      <td>0.5000</td>\n      <td>0.3924</td>\n      <td>0.6105</td>\n      <td>NaN</td>\n    </tr>\n    <tr>\n      <th>3</th>\n      <td>3</td>\n      <td>nb</td>\n      <td>bcellViper.csv</td>\n      <td>rfe_svm</td>\n      <td>3.0</td>\n      <td>StratifiedKFold(n_splits=10, random_state=42, ...</td>\n      <td>138.0</td>\n      <td>6250.0</td>\n      <td>4.0</td>\n      <td>RSU1,SON,CDC42</td>\n      <td>1.0000,1.0000,1.0000</td>\n      <td>168.201200</td>\n      <td>0.665400</td>\n      <td>0.7028</td>\n      <td>0.5000</td>\n      <td>0.3146</td>\n      <td>0.4074</td>\n      <td>NaN</td>\n    </tr>\n    <tr>\n      <th>4</th>\n      <td>4</td>\n      <td>nb</td>\n      <td>bcellViper.csv</td>\n      <td>rfe_svm</td>\n      <td>3.0</td>\n      <td>StratifiedKFold(n_splits=10, random_state=42, ...</td>\n      <td>138.0</td>\n      <td>6250.0</td>\n      <td>5.0</td>\n      <td>SV2B,RPLP1,CDC42</td>\n      <td>1.0000,1.0000,1.0000</td>\n      <td>226.583600</td>\n      <td>0.697400</td>\n      <td>0.7173</td>\n      <td>0.3571</td>\n      <td>0.0824</td>\n      <td>0.6202</td>\n      <td>NaN</td>\n    </tr>\n    <tr>\n      <th>...</th>\n      <td>...</td>\n      <td>...</td>\n      <td>...</td>\n      <td>...</td>\n      <td>...</td>\n      <td>...</td>\n      <td>...</td>\n      <td>...</td>\n      <td>...</td>\n      <td>...</td>\n      <td>...</td>\n      <td>...</td>\n      <td>...</td>\n      <td>...</td>\n      <td>...</td>\n      <td>...</td>\n      <td>...</td>\n      <td>...</td>\n    </tr>\n    <tr>\n      <th>18235</th>\n      <td>18235</td>\n      <td>nb</td>\n      <td>ayeastCC.csv</td>\n      <td>svm_ours</td>\n      <td>20.0</td>\n      <td>LeaveOneOut()</td>\n      <td>50.0</td>\n      <td>6229.0</td>\n      <td>NaN</td>\n      <td>['YDL037C', 'YDL039C', 'YDL070W', 'YDR298C', '...</td>\n      <td>[0.9990364541512767, 0.9998394090252127, 0.998...</td>\n      <td>0.524962</td>\n      <td>0.011345</td>\n      <td>1.0000</td>\n      <td>1.0000</td>\n      <td>1.0000</td>\n      <td>1.0000</td>\n      <td>1.0</td>\n    </tr>\n    <tr>\n      <th>18236</th>\n      <td>18236</td>\n      <td>nb</td>\n      <td>ayeastCC.csv</td>\n      <td>svm_ours</td>\n      <td>25.0</td>\n      <td>LeaveOneOut()</td>\n      <td>50.0</td>\n      <td>6229.0</td>\n      <td>NaN</td>\n      <td>['YBL030C', 'YDL037C', 'YDL039C', 'YDL070W', '...</td>\n      <td>[0.996306407579894, 0.9990364541512767, 0.9998...</td>\n      <td>0.586399</td>\n      <td>0.012145</td>\n      <td>1.0000</td>\n      <td>1.0000</td>\n      <td>1.0000</td>\n      <td>1.0000</td>\n      <td>1.0</td>\n    </tr>\n    <tr>\n      <th>18237</th>\n      <td>18237</td>\n      <td>nb</td>\n      <td>ayeastCC.csv</td>\n      <td>svm_ours</td>\n      <td>30.0</td>\n      <td>LeaveOneOut()</td>\n      <td>50.0</td>\n      <td>6229.0</td>\n      <td>NaN</td>\n      <td>['YBL030C', 'YDL037C', 'YDL039C', 'YDL070W', '...</td>\n      <td>[0.996306407579894, 0.9990364541512767, 0.9998...</td>\n      <td>0.642481</td>\n      <td>0.013184</td>\n      <td>1.0000</td>\n      <td>1.0000</td>\n      <td>1.0000</td>\n      <td>1.0000</td>\n      <td>1.0</td>\n    </tr>\n    <tr>\n      <th>18238</th>\n      <td>18238</td>\n      <td>nb</td>\n      <td>ayeastCC.csv</td>\n      <td>svm_ours</td>\n      <td>50.0</td>\n      <td>LeaveOneOut()</td>\n      <td>50.0</td>\n      <td>6229.0</td>\n      <td>NaN</td>\n      <td>['YBL030C', 'YBL102W', 'YBR034C', 'YBR256C', '...</td>\n      <td>[0.996306407579894, 0.9924522241850008, 0.9943...</td>\n      <td>0.937662</td>\n      <td>0.017567</td>\n      <td>1.0000</td>\n      <td>1.0000</td>\n      <td>1.0000</td>\n      <td>1.0000</td>\n      <td>1.0</td>\n    </tr>\n    <tr>\n      <th>18239</th>\n      <td>18239</td>\n      <td>nb</td>\n      <td>ayeastCC.csv</td>\n      <td>svm_ours</td>\n      <td>100.0</td>\n      <td>LeaveOneOut()</td>\n      <td>50.0</td>\n      <td>6229.0</td>\n      <td>NaN</td>\n      <td>['YBL030C', 'YBL102W', 'YBR034C', 'YBR256C', '...</td>\n      <td>[0.996306407579894, 0.9924522241850008, 0.9943...</td>\n      <td>1.632958</td>\n      <td>0.026709</td>\n      <td>1.0000</td>\n      <td>1.0000</td>\n      <td>1.0000</td>\n      <td>1.0000</td>\n      <td>1.0</td>\n    </tr>\n  </tbody>\n</table>\n<p>18240 rows × 18 columns</p>\n</div>"
     },
     "execution_count": 3,
     "metadata": {},
     "output_type": "execute_result"
    }
   ],
   "source": [
    "df"
   ],
   "metadata": {
    "collapsed": false,
    "pycharm": {
     "name": "#%%\n"
    }
   }
  },
  {
   "cell_type": "code",
   "execution_count": 4,
   "outputs": [
    {
     "data": {
      "text/plain": "CS.csv                 2520\nbcellViper.csv         2400\nCarcinom.csv           2400\nFS.csv                 2400\nALL.csv                1940\narcene.csv             1350\nBP.csv                 1230\nLung.csv                780\nbladderbatch.csv        684\nBASEHOCK.csv            480\nCBH.csv                 340\nALLAML.csv              252\nbreastCancerVDX.csv     250\nMLL.csv                 240\nLymphoma.csv            240\nFSH.csv                 240\nPDX.csv                 240\nPBS.csv                 240\nayeastCC.csv             12\nName: dataset, dtype: int64"
     },
     "execution_count": 4,
     "metadata": {},
     "output_type": "execute_result"
    }
   ],
   "source": [
    "df['dataset'].value_counts()"
   ],
   "metadata": {
    "collapsed": false,
    "pycharm": {
     "name": "#%%\n"
    }
   }
  },
  {
   "cell_type": "code",
   "execution_count": 12,
   "outputs": [
    {
     "data": {
      "text/plain": "                dataset filtering_algorithm  size\n0               ALL.csv                 fdr   480\n1               ALL.csv                mrmr   480\n2               ALL.csv             reliefF   380\n3               ALL.csv             rfe_svm   480\n4               ALL.csv            svm_ours   120\n..                  ...                 ...   ...\n65       bcellViper.csv             rfe_svm   600\n66     bladderbatch.csv                 fdr   684\n67  breastCancerVDX.csv                 fdr   120\n68  breastCancerVDX.csv                mrmr   120\n69  breastCancerVDX.csv             rfe_svm    10\n\n[70 rows x 3 columns]",
      "text/html": "<div>\n<style scoped>\n    .dataframe tbody tr th:only-of-type {\n        vertical-align: middle;\n    }\n\n    .dataframe tbody tr th {\n        vertical-align: top;\n    }\n\n    .dataframe thead th {\n        text-align: right;\n    }\n</style>\n<table border=\"1\" class=\"dataframe\">\n  <thead>\n    <tr style=\"text-align: right;\">\n      <th></th>\n      <th>dataset</th>\n      <th>filtering_algorithm</th>\n      <th>size</th>\n    </tr>\n  </thead>\n  <tbody>\n    <tr>\n      <th>0</th>\n      <td>ALL.csv</td>\n      <td>fdr</td>\n      <td>480</td>\n    </tr>\n    <tr>\n      <th>1</th>\n      <td>ALL.csv</td>\n      <td>mrmr</td>\n      <td>480</td>\n    </tr>\n    <tr>\n      <th>2</th>\n      <td>ALL.csv</td>\n      <td>reliefF</td>\n      <td>380</td>\n    </tr>\n    <tr>\n      <th>3</th>\n      <td>ALL.csv</td>\n      <td>rfe_svm</td>\n      <td>480</td>\n    </tr>\n    <tr>\n      <th>4</th>\n      <td>ALL.csv</td>\n      <td>svm_ours</td>\n      <td>120</td>\n    </tr>\n    <tr>\n      <th>...</th>\n      <td>...</td>\n      <td>...</td>\n      <td>...</td>\n    </tr>\n    <tr>\n      <th>65</th>\n      <td>bcellViper.csv</td>\n      <td>rfe_svm</td>\n      <td>600</td>\n    </tr>\n    <tr>\n      <th>66</th>\n      <td>bladderbatch.csv</td>\n      <td>fdr</td>\n      <td>684</td>\n    </tr>\n    <tr>\n      <th>67</th>\n      <td>breastCancerVDX.csv</td>\n      <td>fdr</td>\n      <td>120</td>\n    </tr>\n    <tr>\n      <th>68</th>\n      <td>breastCancerVDX.csv</td>\n      <td>mrmr</td>\n      <td>120</td>\n    </tr>\n    <tr>\n      <th>69</th>\n      <td>breastCancerVDX.csv</td>\n      <td>rfe_svm</td>\n      <td>10</td>\n    </tr>\n  </tbody>\n</table>\n<p>70 rows × 3 columns</p>\n</div>"
     },
     "execution_count": 12,
     "metadata": {},
     "output_type": "execute_result"
    }
   ],
   "source": [
    "gc = df.groupby(['dataset', 'filtering_algorithm']).size().reset_index(name='size')\n",
    "gc"
   ],
   "metadata": {
    "collapsed": false,
    "pycharm": {
     "name": "#%%\n"
    }
   }
  },
  {
   "cell_type": "code",
   "execution_count": 19,
   "outputs": [],
   "source": [
    "baselines = ['fdr', 'mrmr', 'reliefF','rfe_svm']\n",
    "gc = gc[gc['filtering_algorithm'].isin(baselines)]"
   ],
   "metadata": {
    "collapsed": false,
    "pycharm": {
     "name": "#%%\n"
    }
   }
  },
  {
   "cell_type": "code",
   "execution_count": 21,
   "outputs": [
    {
     "data": {
      "text/plain": "                dataset filtering_algorithm  size\n18              CBH.csv                 fdr   120\n19              CBH.csv                mrmr   120\n20              CBH.csv             rfe_svm   100\n54              PDX.csv                 fdr   120\n55              PDX.csv                mrmr   120\n66     bladderbatch.csv                 fdr   684\n67  breastCancerVDX.csv                 fdr   120\n68  breastCancerVDX.csv                mrmr   120\n69  breastCancerVDX.csv             rfe_svm    10",
      "text/html": "<div>\n<style scoped>\n    .dataframe tbody tr th:only-of-type {\n        vertical-align: middle;\n    }\n\n    .dataframe tbody tr th {\n        vertical-align: top;\n    }\n\n    .dataframe thead th {\n        text-align: right;\n    }\n</style>\n<table border=\"1\" class=\"dataframe\">\n  <thead>\n    <tr style=\"text-align: right;\">\n      <th></th>\n      <th>dataset</th>\n      <th>filtering_algorithm</th>\n      <th>size</th>\n    </tr>\n  </thead>\n  <tbody>\n    <tr>\n      <th>18</th>\n      <td>CBH.csv</td>\n      <td>fdr</td>\n      <td>120</td>\n    </tr>\n    <tr>\n      <th>19</th>\n      <td>CBH.csv</td>\n      <td>mrmr</td>\n      <td>120</td>\n    </tr>\n    <tr>\n      <th>20</th>\n      <td>CBH.csv</td>\n      <td>rfe_svm</td>\n      <td>100</td>\n    </tr>\n    <tr>\n      <th>54</th>\n      <td>PDX.csv</td>\n      <td>fdr</td>\n      <td>120</td>\n    </tr>\n    <tr>\n      <th>55</th>\n      <td>PDX.csv</td>\n      <td>mrmr</td>\n      <td>120</td>\n    </tr>\n    <tr>\n      <th>66</th>\n      <td>bladderbatch.csv</td>\n      <td>fdr</td>\n      <td>684</td>\n    </tr>\n    <tr>\n      <th>67</th>\n      <td>breastCancerVDX.csv</td>\n      <td>fdr</td>\n      <td>120</td>\n    </tr>\n    <tr>\n      <th>68</th>\n      <td>breastCancerVDX.csv</td>\n      <td>mrmr</td>\n      <td>120</td>\n    </tr>\n    <tr>\n      <th>69</th>\n      <td>breastCancerVDX.csv</td>\n      <td>rfe_svm</td>\n      <td>10</td>\n    </tr>\n  </tbody>\n</table>\n</div>"
     },
     "execution_count": 21,
     "metadata": {},
     "output_type": "execute_result"
    }
   ],
   "source": [
    "missing_res = gc.groupby('dataset')['size'].apply(list).apply(len)\n",
    "missing_fa = missing_res[missing_res < len(baselines)].index\n",
    "gc[gc['dataset'].isin(missing_fa)]"
   ],
   "metadata": {
    "collapsed": false,
    "pycharm": {
     "name": "#%%\n"
    }
   }
  },
  {
   "cell_type": "code",
   "execution_count": 23,
   "outputs": [
    {
     "data": {
      "text/plain": "                dataset filtering_algorithm  size\n0               ALL.csv                 fdr   480\n1               ALL.csv                mrmr   480\n2               ALL.csv             reliefF   380\n3               ALL.csv             rfe_svm   480\n14               BP.csv                 fdr   360\n15               BP.csv                mrmr   360\n16               BP.csv             reliefF   240\n17               BP.csv             rfe_svm   270\n18              CBH.csv                 fdr   120\n19              CBH.csv                mrmr   120\n20              CBH.csv             rfe_svm   100\n38             Lung.csv                 fdr   240\n39             Lung.csv                mrmr   240\n40             Lung.csv             reliefF   120\n41             Lung.csv             rfe_svm   180\n56           arcene.csv                 fdr   360\n57           arcene.csv                mrmr   360\n58           arcene.csv             reliefF   240\n59           arcene.csv             rfe_svm   270\n67  breastCancerVDX.csv                 fdr   120\n68  breastCancerVDX.csv                mrmr   120\n69  breastCancerVDX.csv             rfe_svm    10",
      "text/html": "<div>\n<style scoped>\n    .dataframe tbody tr th:only-of-type {\n        vertical-align: middle;\n    }\n\n    .dataframe tbody tr th {\n        vertical-align: top;\n    }\n\n    .dataframe thead th {\n        text-align: right;\n    }\n</style>\n<table border=\"1\" class=\"dataframe\">\n  <thead>\n    <tr style=\"text-align: right;\">\n      <th></th>\n      <th>dataset</th>\n      <th>filtering_algorithm</th>\n      <th>size</th>\n    </tr>\n  </thead>\n  <tbody>\n    <tr>\n      <th>0</th>\n      <td>ALL.csv</td>\n      <td>fdr</td>\n      <td>480</td>\n    </tr>\n    <tr>\n      <th>1</th>\n      <td>ALL.csv</td>\n      <td>mrmr</td>\n      <td>480</td>\n    </tr>\n    <tr>\n      <th>2</th>\n      <td>ALL.csv</td>\n      <td>reliefF</td>\n      <td>380</td>\n    </tr>\n    <tr>\n      <th>3</th>\n      <td>ALL.csv</td>\n      <td>rfe_svm</td>\n      <td>480</td>\n    </tr>\n    <tr>\n      <th>14</th>\n      <td>BP.csv</td>\n      <td>fdr</td>\n      <td>360</td>\n    </tr>\n    <tr>\n      <th>15</th>\n      <td>BP.csv</td>\n      <td>mrmr</td>\n      <td>360</td>\n    </tr>\n    <tr>\n      <th>16</th>\n      <td>BP.csv</td>\n      <td>reliefF</td>\n      <td>240</td>\n    </tr>\n    <tr>\n      <th>17</th>\n      <td>BP.csv</td>\n      <td>rfe_svm</td>\n      <td>270</td>\n    </tr>\n    <tr>\n      <th>18</th>\n      <td>CBH.csv</td>\n      <td>fdr</td>\n      <td>120</td>\n    </tr>\n    <tr>\n      <th>19</th>\n      <td>CBH.csv</td>\n      <td>mrmr</td>\n      <td>120</td>\n    </tr>\n    <tr>\n      <th>20</th>\n      <td>CBH.csv</td>\n      <td>rfe_svm</td>\n      <td>100</td>\n    </tr>\n    <tr>\n      <th>38</th>\n      <td>Lung.csv</td>\n      <td>fdr</td>\n      <td>240</td>\n    </tr>\n    <tr>\n      <th>39</th>\n      <td>Lung.csv</td>\n      <td>mrmr</td>\n      <td>240</td>\n    </tr>\n    <tr>\n      <th>40</th>\n      <td>Lung.csv</td>\n      <td>reliefF</td>\n      <td>120</td>\n    </tr>\n    <tr>\n      <th>41</th>\n      <td>Lung.csv</td>\n      <td>rfe_svm</td>\n      <td>180</td>\n    </tr>\n    <tr>\n      <th>56</th>\n      <td>arcene.csv</td>\n      <td>fdr</td>\n      <td>360</td>\n    </tr>\n    <tr>\n      <th>57</th>\n      <td>arcene.csv</td>\n      <td>mrmr</td>\n      <td>360</td>\n    </tr>\n    <tr>\n      <th>58</th>\n      <td>arcene.csv</td>\n      <td>reliefF</td>\n      <td>240</td>\n    </tr>\n    <tr>\n      <th>59</th>\n      <td>arcene.csv</td>\n      <td>rfe_svm</td>\n      <td>270</td>\n    </tr>\n    <tr>\n      <th>67</th>\n      <td>breastCancerVDX.csv</td>\n      <td>fdr</td>\n      <td>120</td>\n    </tr>\n    <tr>\n      <th>68</th>\n      <td>breastCancerVDX.csv</td>\n      <td>mrmr</td>\n      <td>120</td>\n    </tr>\n    <tr>\n      <th>69</th>\n      <td>breastCancerVDX.csv</td>\n      <td>rfe_svm</td>\n      <td>10</td>\n    </tr>\n  </tbody>\n</table>\n</div>"
     },
     "execution_count": 23,
     "metadata": {},
     "output_type": "execute_result"
    }
   ],
   "source": [
    "distinct_res = gc.groupby('dataset')['size'].apply(set).apply(len)\n",
    "missing_exp = distinct_res[distinct_res > 1].index\n",
    "gc[gc['dataset'].isin(missing_exp)]"
   ],
   "metadata": {
    "collapsed": false,
    "pycharm": {
     "name": "#%%\n"
    }
   }
  },
  {
   "cell_type": "code",
   "execution_count": 25,
   "outputs": [],
   "source": [
    "prob_df = gc[gc['dataset'].isin(missing_exp) | gc['dataset'].isin(missing_fa)]"
   ],
   "metadata": {
    "collapsed": false,
    "pycharm": {
     "name": "#%%\n"
    }
   }
  },
  {
   "cell_type": "code",
   "execution_count": 26,
   "outputs": [
    {
     "data": {
      "text/plain": "array(['ALL.csv', 'BP.csv', 'CBH.csv', 'Lung.csv', 'PDX.csv',\n       'arcene.csv', 'bladderbatch.csv', 'breastCancerVDX.csv'],\n      dtype=object)"
     },
     "execution_count": 26,
     "metadata": {},
     "output_type": "execute_result"
    }
   ],
   "source": [
    "prob_df['dataset'].unique()"
   ],
   "metadata": {
    "collapsed": false,
    "pycharm": {
     "name": "#%%\n"
    }
   }
  },
  {
   "cell_type": "code",
   "execution_count": 40,
   "outputs": [
    {
     "data": {
      "text/plain": "      Unnamed: 0 learning_algorithm     dataset filtering_algorithm  \\\n4398        4398                 nb  ALLAML.csv                 fdr   \n5978        5978                svm  ALLAML.csv                 fdr   \n8631        8631                 lr  ALLAML.csv                 fdr   \n9189        9189                 rf  ALLAML.csv                 fdr   \n9958        9958                knn  ALLAML.csv                 fdr   \n\n      n_selected_features      cv_method  n_samples  n_features_org  fold  \\\n4398                  1.0  LeaveOneOut()       72.0          7130.0   NaN   \n5978                  1.0  LeaveOneOut()       72.0          7130.0   NaN   \n8631                  1.0  LeaveOneOut()       72.0          7130.0   NaN   \n9189                  1.0  LeaveOneOut()       72.0          7130.0   NaN   \n9958                  1.0  LeaveOneOut()       72.0          7130.0   NaN   \n\n     selected_features_names selected_features_scores  fit_time  score_time  \\\n4398                ['1881']     [216.72365924197692]  0.092956    0.003452   \n5978                ['1881']     [216.72365924197692]  0.131165    0.005058   \n8631                ['1881']     [216.72365924197692]  0.135699    0.004528   \n9189                ['1881']     [216.72365924197692]  0.353352    0.021444   \n9958                ['1881']     [216.72365924197692]  0.129304    0.005353   \n\n      test_roc_auc  test_acc  test_mcc  test_pr_auc  test_score  \n4398      0.952340  0.930556  0.848620     0.958263    0.930556  \n5978      0.946383  0.944444  0.877447     0.941446    0.944444  \n8631      0.967660  0.930556  0.846174     0.964591    0.930556  \n9189      0.951489  0.902778  0.787884     0.930458    0.902778  \n9958      0.956596  0.930556  0.848620     0.937360    0.930556  ",
      "text/html": "<div>\n<style scoped>\n    .dataframe tbody tr th:only-of-type {\n        vertical-align: middle;\n    }\n\n    .dataframe tbody tr th {\n        vertical-align: top;\n    }\n\n    .dataframe thead th {\n        text-align: right;\n    }\n</style>\n<table border=\"1\" class=\"dataframe\">\n  <thead>\n    <tr style=\"text-align: right;\">\n      <th></th>\n      <th>Unnamed: 0</th>\n      <th>learning_algorithm</th>\n      <th>dataset</th>\n      <th>filtering_algorithm</th>\n      <th>n_selected_features</th>\n      <th>cv_method</th>\n      <th>n_samples</th>\n      <th>n_features_org</th>\n      <th>fold</th>\n      <th>selected_features_names</th>\n      <th>selected_features_scores</th>\n      <th>fit_time</th>\n      <th>score_time</th>\n      <th>test_roc_auc</th>\n      <th>test_acc</th>\n      <th>test_mcc</th>\n      <th>test_pr_auc</th>\n      <th>test_score</th>\n    </tr>\n  </thead>\n  <tbody>\n    <tr>\n      <th>4398</th>\n      <td>4398</td>\n      <td>nb</td>\n      <td>ALLAML.csv</td>\n      <td>fdr</td>\n      <td>1.0</td>\n      <td>LeaveOneOut()</td>\n      <td>72.0</td>\n      <td>7130.0</td>\n      <td>NaN</td>\n      <td>['1881']</td>\n      <td>[216.72365924197692]</td>\n      <td>0.092956</td>\n      <td>0.003452</td>\n      <td>0.952340</td>\n      <td>0.930556</td>\n      <td>0.848620</td>\n      <td>0.958263</td>\n      <td>0.930556</td>\n    </tr>\n    <tr>\n      <th>5978</th>\n      <td>5978</td>\n      <td>svm</td>\n      <td>ALLAML.csv</td>\n      <td>fdr</td>\n      <td>1.0</td>\n      <td>LeaveOneOut()</td>\n      <td>72.0</td>\n      <td>7130.0</td>\n      <td>NaN</td>\n      <td>['1881']</td>\n      <td>[216.72365924197692]</td>\n      <td>0.131165</td>\n      <td>0.005058</td>\n      <td>0.946383</td>\n      <td>0.944444</td>\n      <td>0.877447</td>\n      <td>0.941446</td>\n      <td>0.944444</td>\n    </tr>\n    <tr>\n      <th>8631</th>\n      <td>8631</td>\n      <td>lr</td>\n      <td>ALLAML.csv</td>\n      <td>fdr</td>\n      <td>1.0</td>\n      <td>LeaveOneOut()</td>\n      <td>72.0</td>\n      <td>7130.0</td>\n      <td>NaN</td>\n      <td>['1881']</td>\n      <td>[216.72365924197692]</td>\n      <td>0.135699</td>\n      <td>0.004528</td>\n      <td>0.967660</td>\n      <td>0.930556</td>\n      <td>0.846174</td>\n      <td>0.964591</td>\n      <td>0.930556</td>\n    </tr>\n    <tr>\n      <th>9189</th>\n      <td>9189</td>\n      <td>rf</td>\n      <td>ALLAML.csv</td>\n      <td>fdr</td>\n      <td>1.0</td>\n      <td>LeaveOneOut()</td>\n      <td>72.0</td>\n      <td>7130.0</td>\n      <td>NaN</td>\n      <td>['1881']</td>\n      <td>[216.72365924197692]</td>\n      <td>0.353352</td>\n      <td>0.021444</td>\n      <td>0.951489</td>\n      <td>0.902778</td>\n      <td>0.787884</td>\n      <td>0.930458</td>\n      <td>0.902778</td>\n    </tr>\n    <tr>\n      <th>9958</th>\n      <td>9958</td>\n      <td>knn</td>\n      <td>ALLAML.csv</td>\n      <td>fdr</td>\n      <td>1.0</td>\n      <td>LeaveOneOut()</td>\n      <td>72.0</td>\n      <td>7130.0</td>\n      <td>NaN</td>\n      <td>['1881']</td>\n      <td>[216.72365924197692]</td>\n      <td>0.129304</td>\n      <td>0.005353</td>\n      <td>0.956596</td>\n      <td>0.930556</td>\n      <td>0.848620</td>\n      <td>0.937360</td>\n      <td>0.930556</td>\n    </tr>\n  </tbody>\n</table>\n</div>"
     },
     "execution_count": 40,
     "metadata": {},
     "output_type": "execute_result"
    }
   ],
   "source": [
    "df[(df['dataset'] == 'ALLAML.csv') & (df['filtering_algorithm'] == 'fdr') & (df['n_selected_features'] == 1.0)]"
   ],
   "metadata": {
    "collapsed": false,
    "pycharm": {
     "name": "#%%\n"
    }
   }
  },
  {
   "cell_type": "code",
   "execution_count": 34,
   "outputs": [
    {
     "data": {
      "text/plain": "       Unnamed: 0 learning_algorithm           dataset filtering_algorithm  \\\n50             50                 nb        ALLAML.csv                mrmr   \n751           751                 nb        ALLAML.csv                 fdr   \n872           872                 nb        ALLAML.csv                mrmr   \n1553         1553                 nb        ALLAML.csv                mrmr   \n2284         2284                 nb  bladderbatch.csv                 fdr   \n...           ...                ...               ...                 ...   \n18235       18235                 nb      ayeastCC.csv            svm_ours   \n18236       18236                 nb      ayeastCC.csv            svm_ours   \n18237       18237                 nb      ayeastCC.csv            svm_ours   \n18238       18238                 nb      ayeastCC.csv            svm_ours   \n18239       18239                 nb      ayeastCC.csv            svm_ours   \n\n       n_selected_features      cv_method  n_samples  n_features_org  fold  \\\n50                    20.0  LeaveOneOut()       72.0          7130.0   NaN   \n751                  100.0  LeaveOneOut()       72.0          7130.0   NaN   \n872                    1.0  LeaveOneOut()       72.0          7130.0   NaN   \n1553                   2.0  LeaveOneOut()       72.0          7130.0   NaN   \n2284                   1.0  LeaveOneOut()       57.0         22284.0   1.0   \n...                    ...            ...        ...             ...   ...   \n18235                 20.0  LeaveOneOut()       50.0          6229.0   NaN   \n18236                 25.0  LeaveOneOut()       50.0          6229.0   NaN   \n18237                 30.0  LeaveOneOut()       50.0          6229.0   NaN   \n18238                 50.0  LeaveOneOut()       50.0          6229.0   NaN   \n18239                100.0  LeaveOneOut()       50.0          6229.0   NaN   \n\n                                 selected_features_names  \\\n50     ['6', '7108', '7110', '7111', '7112', '7113', ...   \n751    ['172', '234', '460', '757', '759', '803', '87...   \n872                                                ['6']   \n1553                                       ['6', '7128']   \n2284                                           216005_at   \n...                                                  ...   \n18235  ['YDL037C', 'YDL039C', 'YDL070W', 'YDR298C', '...   \n18236  ['YBL030C', 'YDL037C', 'YDL039C', 'YDL070W', '...   \n18237  ['YBL030C', 'YDL037C', 'YDL039C', 'YDL070W', '...   \n18238  ['YBL030C', 'YBL102W', 'YBR034C', 'YBR256C', '...   \n18239  ['YBL030C', 'YBL102W', 'YBR034C', 'YBR256C', '...   \n\n                                selected_features_scores    fit_time  \\\n50     [0.9315627684809641, 0.0, 0.0, 0.0, 0.0, 0.0, ...    0.271309   \n751    [36.96169407778394, 45.25023002700539, 44.1737...    0.688054   \n872                                 [0.9315627684809641]    0.130668   \n1553                           [0.9315627684809641, 0.0]    0.134353   \n2284                                             65.6174  139.973600   \n...                                                  ...         ...   \n18235  [0.9990364541512767, 0.9998394090252127, 0.998...    0.524962   \n18236  [0.996306407579894, 0.9990364541512767, 0.9998...    0.586399   \n18237  [0.996306407579894, 0.9990364541512767, 0.9998...    0.642481   \n18238  [0.996306407579894, 0.9924522241850008, 0.9943...    0.937662   \n18239  [0.996306407579894, 0.9924522241850008, 0.9943...    1.632958   \n\n       score_time  test_roc_auc  test_acc  test_mcc  test_pr_auc  test_score  \n50       0.006885      0.819574  0.750000  0.459479     0.636462    0.750000  \n751      0.011254      0.997447  0.972222  0.938723     0.995635    0.972222  \n872      0.004932      0.537021  0.625000 -0.008796     0.387923    0.625000  \n1553     0.005084      0.526809  0.652778  0.096756     0.368871    0.652778  \n2284     3.840500           NaN       NaN       NaN          NaN         NaN  \n...           ...           ...       ...       ...          ...         ...  \n18235    0.011345      1.000000  1.000000  1.000000     1.000000    1.000000  \n18236    0.012145      1.000000  1.000000  1.000000     1.000000    1.000000  \n18237    0.013184      1.000000  1.000000  1.000000     1.000000    1.000000  \n18238    0.017567      1.000000  1.000000  1.000000     1.000000    1.000000  \n18239    0.026709      1.000000  1.000000  1.000000     1.000000    1.000000  \n\n[1668 rows x 18 columns]",
      "text/html": "<div>\n<style scoped>\n    .dataframe tbody tr th:only-of-type {\n        vertical-align: middle;\n    }\n\n    .dataframe tbody tr th {\n        vertical-align: top;\n    }\n\n    .dataframe thead th {\n        text-align: right;\n    }\n</style>\n<table border=\"1\" class=\"dataframe\">\n  <thead>\n    <tr style=\"text-align: right;\">\n      <th></th>\n      <th>Unnamed: 0</th>\n      <th>learning_algorithm</th>\n      <th>dataset</th>\n      <th>filtering_algorithm</th>\n      <th>n_selected_features</th>\n      <th>cv_method</th>\n      <th>n_samples</th>\n      <th>n_features_org</th>\n      <th>fold</th>\n      <th>selected_features_names</th>\n      <th>selected_features_scores</th>\n      <th>fit_time</th>\n      <th>score_time</th>\n      <th>test_roc_auc</th>\n      <th>test_acc</th>\n      <th>test_mcc</th>\n      <th>test_pr_auc</th>\n      <th>test_score</th>\n    </tr>\n  </thead>\n  <tbody>\n    <tr>\n      <th>50</th>\n      <td>50</td>\n      <td>nb</td>\n      <td>ALLAML.csv</td>\n      <td>mrmr</td>\n      <td>20.0</td>\n      <td>LeaveOneOut()</td>\n      <td>72.0</td>\n      <td>7130.0</td>\n      <td>NaN</td>\n      <td>['6', '7108', '7110', '7111', '7112', '7113', ...</td>\n      <td>[0.9315627684809641, 0.0, 0.0, 0.0, 0.0, 0.0, ...</td>\n      <td>0.271309</td>\n      <td>0.006885</td>\n      <td>0.819574</td>\n      <td>0.750000</td>\n      <td>0.459479</td>\n      <td>0.636462</td>\n      <td>0.750000</td>\n    </tr>\n    <tr>\n      <th>751</th>\n      <td>751</td>\n      <td>nb</td>\n      <td>ALLAML.csv</td>\n      <td>fdr</td>\n      <td>100.0</td>\n      <td>LeaveOneOut()</td>\n      <td>72.0</td>\n      <td>7130.0</td>\n      <td>NaN</td>\n      <td>['172', '234', '460', '757', '759', '803', '87...</td>\n      <td>[36.96169407778394, 45.25023002700539, 44.1737...</td>\n      <td>0.688054</td>\n      <td>0.011254</td>\n      <td>0.997447</td>\n      <td>0.972222</td>\n      <td>0.938723</td>\n      <td>0.995635</td>\n      <td>0.972222</td>\n    </tr>\n    <tr>\n      <th>872</th>\n      <td>872</td>\n      <td>nb</td>\n      <td>ALLAML.csv</td>\n      <td>mrmr</td>\n      <td>1.0</td>\n      <td>LeaveOneOut()</td>\n      <td>72.0</td>\n      <td>7130.0</td>\n      <td>NaN</td>\n      <td>['6']</td>\n      <td>[0.9315627684809641]</td>\n      <td>0.130668</td>\n      <td>0.004932</td>\n      <td>0.537021</td>\n      <td>0.625000</td>\n      <td>-0.008796</td>\n      <td>0.387923</td>\n      <td>0.625000</td>\n    </tr>\n    <tr>\n      <th>1553</th>\n      <td>1553</td>\n      <td>nb</td>\n      <td>ALLAML.csv</td>\n      <td>mrmr</td>\n      <td>2.0</td>\n      <td>LeaveOneOut()</td>\n      <td>72.0</td>\n      <td>7130.0</td>\n      <td>NaN</td>\n      <td>['6', '7128']</td>\n      <td>[0.9315627684809641, 0.0]</td>\n      <td>0.134353</td>\n      <td>0.005084</td>\n      <td>0.526809</td>\n      <td>0.652778</td>\n      <td>0.096756</td>\n      <td>0.368871</td>\n      <td>0.652778</td>\n    </tr>\n    <tr>\n      <th>2284</th>\n      <td>2284</td>\n      <td>nb</td>\n      <td>bladderbatch.csv</td>\n      <td>fdr</td>\n      <td>1.0</td>\n      <td>LeaveOneOut()</td>\n      <td>57.0</td>\n      <td>22284.0</td>\n      <td>1.0</td>\n      <td>216005_at</td>\n      <td>65.6174</td>\n      <td>139.973600</td>\n      <td>3.840500</td>\n      <td>NaN</td>\n      <td>NaN</td>\n      <td>NaN</td>\n      <td>NaN</td>\n      <td>NaN</td>\n    </tr>\n    <tr>\n      <th>...</th>\n      <td>...</td>\n      <td>...</td>\n      <td>...</td>\n      <td>...</td>\n      <td>...</td>\n      <td>...</td>\n      <td>...</td>\n      <td>...</td>\n      <td>...</td>\n      <td>...</td>\n      <td>...</td>\n      <td>...</td>\n      <td>...</td>\n      <td>...</td>\n      <td>...</td>\n      <td>...</td>\n      <td>...</td>\n      <td>...</td>\n    </tr>\n    <tr>\n      <th>18235</th>\n      <td>18235</td>\n      <td>nb</td>\n      <td>ayeastCC.csv</td>\n      <td>svm_ours</td>\n      <td>20.0</td>\n      <td>LeaveOneOut()</td>\n      <td>50.0</td>\n      <td>6229.0</td>\n      <td>NaN</td>\n      <td>['YDL037C', 'YDL039C', 'YDL070W', 'YDR298C', '...</td>\n      <td>[0.9990364541512767, 0.9998394090252127, 0.998...</td>\n      <td>0.524962</td>\n      <td>0.011345</td>\n      <td>1.000000</td>\n      <td>1.000000</td>\n      <td>1.000000</td>\n      <td>1.000000</td>\n      <td>1.000000</td>\n    </tr>\n    <tr>\n      <th>18236</th>\n      <td>18236</td>\n      <td>nb</td>\n      <td>ayeastCC.csv</td>\n      <td>svm_ours</td>\n      <td>25.0</td>\n      <td>LeaveOneOut()</td>\n      <td>50.0</td>\n      <td>6229.0</td>\n      <td>NaN</td>\n      <td>['YBL030C', 'YDL037C', 'YDL039C', 'YDL070W', '...</td>\n      <td>[0.996306407579894, 0.9990364541512767, 0.9998...</td>\n      <td>0.586399</td>\n      <td>0.012145</td>\n      <td>1.000000</td>\n      <td>1.000000</td>\n      <td>1.000000</td>\n      <td>1.000000</td>\n      <td>1.000000</td>\n    </tr>\n    <tr>\n      <th>18237</th>\n      <td>18237</td>\n      <td>nb</td>\n      <td>ayeastCC.csv</td>\n      <td>svm_ours</td>\n      <td>30.0</td>\n      <td>LeaveOneOut()</td>\n      <td>50.0</td>\n      <td>6229.0</td>\n      <td>NaN</td>\n      <td>['YBL030C', 'YDL037C', 'YDL039C', 'YDL070W', '...</td>\n      <td>[0.996306407579894, 0.9990364541512767, 0.9998...</td>\n      <td>0.642481</td>\n      <td>0.013184</td>\n      <td>1.000000</td>\n      <td>1.000000</td>\n      <td>1.000000</td>\n      <td>1.000000</td>\n      <td>1.000000</td>\n    </tr>\n    <tr>\n      <th>18238</th>\n      <td>18238</td>\n      <td>nb</td>\n      <td>ayeastCC.csv</td>\n      <td>svm_ours</td>\n      <td>50.0</td>\n      <td>LeaveOneOut()</td>\n      <td>50.0</td>\n      <td>6229.0</td>\n      <td>NaN</td>\n      <td>['YBL030C', 'YBL102W', 'YBR034C', 'YBR256C', '...</td>\n      <td>[0.996306407579894, 0.9924522241850008, 0.9943...</td>\n      <td>0.937662</td>\n      <td>0.017567</td>\n      <td>1.000000</td>\n      <td>1.000000</td>\n      <td>1.000000</td>\n      <td>1.000000</td>\n      <td>1.000000</td>\n    </tr>\n    <tr>\n      <th>18239</th>\n      <td>18239</td>\n      <td>nb</td>\n      <td>ayeastCC.csv</td>\n      <td>svm_ours</td>\n      <td>100.0</td>\n      <td>LeaveOneOut()</td>\n      <td>50.0</td>\n      <td>6229.0</td>\n      <td>NaN</td>\n      <td>['YBL030C', 'YBL102W', 'YBR034C', 'YBR256C', '...</td>\n      <td>[0.996306407579894, 0.9924522241850008, 0.9943...</td>\n      <td>1.632958</td>\n      <td>0.026709</td>\n      <td>1.000000</td>\n      <td>1.000000</td>\n      <td>1.000000</td>\n      <td>1.000000</td>\n      <td>1.000000</td>\n    </tr>\n  </tbody>\n</table>\n<p>1668 rows × 18 columns</p>\n</div>"
     },
     "execution_count": 34,
     "metadata": {},
     "output_type": "execute_result"
    }
   ],
   "source": [
    "df[~df['cv_method'].isna() & df['cv_method'].str.contains('LeaveOneOut')]"
   ],
   "metadata": {
    "collapsed": false,
    "pycharm": {
     "name": "#%%\n"
    }
   }
  },
  {
   "cell_type": "code",
   "execution_count": 46,
   "outputs": [
    {
     "data": {
      "text/plain": "               dataset learning_algorithm filtering_algorithm  \\\n2832  bladderbatch.csv                 nb                 fdr   \n2833  bladderbatch.csv                 nb                 fdr   \n2834  bladderbatch.csv                 nb                 fdr   \n2835  bladderbatch.csv                 nb                 fdr   \n2836  bladderbatch.csv                 nb                 fdr   \n2837  bladderbatch.csv                 nb                 fdr   \n2838  bladderbatch.csv                 nb                 fdr   \n2839  bladderbatch.csv                 nb                 fdr   \n2840  bladderbatch.csv                 nb                 fdr   \n2841  bladderbatch.csv                 nb                 fdr   \n2842  bladderbatch.csv                 nb                 fdr   \n2843  bladderbatch.csv                 nb                 fdr   \n\n      n_selected_features      cv_method  \\\n2832                  1.0  LeaveOneOut()   \n2833                  2.0  LeaveOneOut()   \n2834                  3.0  LeaveOneOut()   \n2835                  4.0  LeaveOneOut()   \n2836                  5.0  LeaveOneOut()   \n2837                 10.0  LeaveOneOut()   \n2838                 15.0  LeaveOneOut()   \n2839                 20.0  LeaveOneOut()   \n2840                 25.0  LeaveOneOut()   \n2841                 30.0  LeaveOneOut()   \n2842                 50.0  LeaveOneOut()   \n2843                100.0  LeaveOneOut()   \n\n                                                   fold  num_folds  \n2832  [1.0, 2.0, 3.0, 4.0, 5.0, 6.0, 7.0, 8.0, 9.0, ...          1  \n2833  [1.0, 2.0, 3.0, 4.0, 5.0, 6.0, 7.0, 8.0, 9.0, ...          1  \n2834  [1.0, 2.0, 3.0, 4.0, 5.0, 6.0, 7.0, 8.0, 9.0, ...          1  \n2835  [1.0, 2.0, 3.0, 4.0, 5.0, 6.0, 7.0, 8.0, 9.0, ...          1  \n2836  [1.0, 2.0, 3.0, 4.0, 5.0, 6.0, 7.0, 8.0, 9.0, ...          1  \n2837  [1.0, 2.0, 3.0, 4.0, 5.0, 6.0, 7.0, 8.0, 9.0, ...          1  \n2838  [1.0, 2.0, 3.0, 4.0, 5.0, 6.0, 7.0, 8.0, 9.0, ...          1  \n2839  [1.0, 2.0, 3.0, 4.0, 5.0, 6.0, 7.0, 8.0, 9.0, ...          1  \n2840  [1.0, 2.0, 3.0, 4.0, 5.0, 6.0, 7.0, 8.0, 9.0, ...          1  \n2841  [1.0, 2.0, 3.0, 4.0, 5.0, 6.0, 7.0, 8.0, 9.0, ...          1  \n2842  [1.0, 2.0, 3.0, 4.0, 5.0, 6.0, 7.0, 8.0, 9.0, ...          1  \n2843  [1.0, 2.0, 3.0, 4.0, 5.0, 6.0, 7.0, 8.0, 9.0, ...          1  ",
      "text/html": "<div>\n<style scoped>\n    .dataframe tbody tr th:only-of-type {\n        vertical-align: middle;\n    }\n\n    .dataframe tbody tr th {\n        vertical-align: top;\n    }\n\n    .dataframe thead th {\n        text-align: right;\n    }\n</style>\n<table border=\"1\" class=\"dataframe\">\n  <thead>\n    <tr style=\"text-align: right;\">\n      <th></th>\n      <th>dataset</th>\n      <th>learning_algorithm</th>\n      <th>filtering_algorithm</th>\n      <th>n_selected_features</th>\n      <th>cv_method</th>\n      <th>fold</th>\n      <th>num_folds</th>\n    </tr>\n  </thead>\n  <tbody>\n    <tr>\n      <th>2832</th>\n      <td>bladderbatch.csv</td>\n      <td>nb</td>\n      <td>fdr</td>\n      <td>1.0</td>\n      <td>LeaveOneOut()</td>\n      <td>[1.0, 2.0, 3.0, 4.0, 5.0, 6.0, 7.0, 8.0, 9.0, ...</td>\n      <td>1</td>\n    </tr>\n    <tr>\n      <th>2833</th>\n      <td>bladderbatch.csv</td>\n      <td>nb</td>\n      <td>fdr</td>\n      <td>2.0</td>\n      <td>LeaveOneOut()</td>\n      <td>[1.0, 2.0, 3.0, 4.0, 5.0, 6.0, 7.0, 8.0, 9.0, ...</td>\n      <td>1</td>\n    </tr>\n    <tr>\n      <th>2834</th>\n      <td>bladderbatch.csv</td>\n      <td>nb</td>\n      <td>fdr</td>\n      <td>3.0</td>\n      <td>LeaveOneOut()</td>\n      <td>[1.0, 2.0, 3.0, 4.0, 5.0, 6.0, 7.0, 8.0, 9.0, ...</td>\n      <td>1</td>\n    </tr>\n    <tr>\n      <th>2835</th>\n      <td>bladderbatch.csv</td>\n      <td>nb</td>\n      <td>fdr</td>\n      <td>4.0</td>\n      <td>LeaveOneOut()</td>\n      <td>[1.0, 2.0, 3.0, 4.0, 5.0, 6.0, 7.0, 8.0, 9.0, ...</td>\n      <td>1</td>\n    </tr>\n    <tr>\n      <th>2836</th>\n      <td>bladderbatch.csv</td>\n      <td>nb</td>\n      <td>fdr</td>\n      <td>5.0</td>\n      <td>LeaveOneOut()</td>\n      <td>[1.0, 2.0, 3.0, 4.0, 5.0, 6.0, 7.0, 8.0, 9.0, ...</td>\n      <td>1</td>\n    </tr>\n    <tr>\n      <th>2837</th>\n      <td>bladderbatch.csv</td>\n      <td>nb</td>\n      <td>fdr</td>\n      <td>10.0</td>\n      <td>LeaveOneOut()</td>\n      <td>[1.0, 2.0, 3.0, 4.0, 5.0, 6.0, 7.0, 8.0, 9.0, ...</td>\n      <td>1</td>\n    </tr>\n    <tr>\n      <th>2838</th>\n      <td>bladderbatch.csv</td>\n      <td>nb</td>\n      <td>fdr</td>\n      <td>15.0</td>\n      <td>LeaveOneOut()</td>\n      <td>[1.0, 2.0, 3.0, 4.0, 5.0, 6.0, 7.0, 8.0, 9.0, ...</td>\n      <td>1</td>\n    </tr>\n    <tr>\n      <th>2839</th>\n      <td>bladderbatch.csv</td>\n      <td>nb</td>\n      <td>fdr</td>\n      <td>20.0</td>\n      <td>LeaveOneOut()</td>\n      <td>[1.0, 2.0, 3.0, 4.0, 5.0, 6.0, 7.0, 8.0, 9.0, ...</td>\n      <td>1</td>\n    </tr>\n    <tr>\n      <th>2840</th>\n      <td>bladderbatch.csv</td>\n      <td>nb</td>\n      <td>fdr</td>\n      <td>25.0</td>\n      <td>LeaveOneOut()</td>\n      <td>[1.0, 2.0, 3.0, 4.0, 5.0, 6.0, 7.0, 8.0, 9.0, ...</td>\n      <td>1</td>\n    </tr>\n    <tr>\n      <th>2841</th>\n      <td>bladderbatch.csv</td>\n      <td>nb</td>\n      <td>fdr</td>\n      <td>30.0</td>\n      <td>LeaveOneOut()</td>\n      <td>[1.0, 2.0, 3.0, 4.0, 5.0, 6.0, 7.0, 8.0, 9.0, ...</td>\n      <td>1</td>\n    </tr>\n    <tr>\n      <th>2842</th>\n      <td>bladderbatch.csv</td>\n      <td>nb</td>\n      <td>fdr</td>\n      <td>50.0</td>\n      <td>LeaveOneOut()</td>\n      <td>[1.0, 2.0, 3.0, 4.0, 5.0, 6.0, 7.0, 8.0, 9.0, ...</td>\n      <td>1</td>\n    </tr>\n    <tr>\n      <th>2843</th>\n      <td>bladderbatch.csv</td>\n      <td>nb</td>\n      <td>fdr</td>\n      <td>100.0</td>\n      <td>LeaveOneOut()</td>\n      <td>[1.0, 2.0, 3.0, 4.0, 5.0, 6.0, 7.0, 8.0, 9.0, ...</td>\n      <td>1</td>\n    </tr>\n  </tbody>\n</table>\n</div>"
     },
     "execution_count": 46,
     "metadata": {},
     "output_type": "execute_result"
    }
   ],
   "source": [
    "def get_num_folds(row):\n",
    "    if 'n_splits=10' in row['cv_method']:\n",
    "        return 10\n",
    "    elif 'n_splits=5' in row['cv_method']:\n",
    "        return 5\n",
    "    elif 'LeaveOneOut' in row['cv_method']:\n",
    "        return 1\n",
    "    elif 'LeavePOut' in row['cv_method']:\n",
    "        return 1\n",
    "\n",
    "folds_df = df.groupby(['dataset', 'learning_algorithm', 'filtering_algorithm', 'n_selected_features', 'cv_method'])['fold'].apply(list).reset_index()\n",
    "folds_df['num_folds'] = folds_df.apply(get_num_folds, axis=1)\n",
    "folds_df[folds_df['fold'].map(len) != folds_df['num_folds']]"
   ],
   "metadata": {
    "collapsed": false,
    "pycharm": {
     "name": "#%%\n"
    }
   }
  }
 ],
 "metadata": {
  "kernelspec": {
   "display_name": "Python 3",
   "language": "python",
   "name": "python3"
  },
  "language_info": {
   "codemirror_mode": {
    "name": "ipython",
    "version": 2
   },
   "file_extension": ".py",
   "mimetype": "text/x-python",
   "name": "python",
   "nbconvert_exporter": "python",
   "pygments_lexer": "ipython2",
   "version": "2.7.6"
  }
 },
 "nbformat": 4,
 "nbformat_minor": 0
}